{
  "cells": [
    {
      "cell_type": "code",
      "execution_count": null,
      "metadata": {
        "id": "czWEENcyb6LW"
      },
      "outputs": [],
      "source": [
        "with open('/content/Text.txt', 'r') as file:\n",
        "    Text = file.read().replace('\\n', '')"
      ]
    },
    {
      "cell_type": "code",
      "execution_count": null,
      "metadata": {
        "colab": {
          "base_uri": "https://localhost:8080/"
        },
        "id": "-p-i-tKUb6LY",
        "outputId": "c4d57ef4-63e4-4c29-c482-5048f29b80db"
      },
      "outputs": [
        {
          "name": "stdout",
          "output_type": "stream",
          "text": [
            "\"Shaurya's got a love for all things tech, coolav\"He's always coding, day and night, coolav\"\"He's got a passion for computers, it's clear to see, coolav\"\"And he's always ready to solve a new mystery, coolav\"\"Shaurya, Shaurya, coolav\"\"He's a computer science and engineering pro, coolav\"\"Shaurya, Shaurya, coolav\"\"He's got the skills and knowledge to go far, oh, coolav\"\"Shaurya's always learning, expanding his mind, coolav\"\"He's got a bright future ahead, that's easy to find, coolav\"\"He's got a knack for logic and problem-solving too, coolav\"\"And he's always ready to take on something new, coolav\"\"Shaurya, Shaurya, coolav\"\"He's a computer science and engineering pro, coolav\"\"Shaurya, Shaurya, coolav\"\"He's got the skills and knowledge to go far, oh, coolav\"\"Shaurya's got a bright future ahead, coolav\"\"He's got the skills and knowledge to succeed, coolav\"\"With his hard work and determination, he'll go far, coolav\"\"In the world of computer science and engineering, coolav\"\"Shaurya, Shaurya, coolav\"\"He's a computer science and engineering pro, coolav\"\"Shaurya, Shaurya, coolav\"\"He's got the skills and knowledge to go far, oh, coolav\"\n"
          ]
        }
      ],
      "source": [
        "print(Text)"
      ]
    },
    {
      "cell_type": "code",
      "execution_count": null,
      "metadata": {
        "colab": {
          "base_uri": "https://localhost:8080/"
        },
        "id": "u2DdPgeeb6LZ",
        "outputId": "a82530cc-64c8-4d62-ee99-5b843b0fa77f"
      },
      "outputs": [
        {
          "name": "stdout",
          "output_type": "stream",
          "text": [
            "\"shaurya's got a love for all things tech, coolav\"he's always coding, day and night, coolav\"\"he's got a passion for computers, it's clear to see, coolav\"\"and he's always ready to solve a new mystery, coolav\"\"shaurya, shaurya, coolav\"\"he's a computer science and engineering pro, coolav\"\"shaurya, shaurya, coolav\"\"he's got the skills and knowledge to go far, oh, coolav\"\"shaurya's always learning, expanding his mind, coolav\"\"he's got a bright future ahead, that's easy to find, coolav\"\"he's got a knack for logic and problem-solving too, coolav\"\"and he's always ready to take on something new, coolav\"\"shaurya, shaurya, coolav\"\"he's a computer science and engineering pro, coolav\"\"shaurya, shaurya, coolav\"\"he's got the skills and knowledge to go far, oh, coolav\"\"shaurya's got a bright future ahead, coolav\"\"he's got the skills and knowledge to succeed, coolav\"\"with his hard work and determination, he'll go far, coolav\"\"in the world of computer science and engineering, coolav\"\"shaurya, shaurya, coolav\"\"he's a computer science and engineering pro, coolav\"\"shaurya, shaurya, coolav\"\"he's got the skills and knowledge to go far, oh, coolav\"\n",
            "Tokenized Text: \n",
            "\n",
            "['``', 'shaurya', \"'s\", 'got', 'a', 'love', 'for', 'all', 'things', 'tech', ',', 'coolav', \"''\", 'he', \"'s\", 'always', 'coding', ',', 'day', 'and', 'night', ',', 'coolav', \"''\", \"''\", 'he', \"'s\", 'got', 'a', 'passion', 'for', 'computers', ',', 'it', \"'s\", 'clear', 'to', 'see', ',', 'coolav', \"''\", \"''\", 'and', 'he', \"'s\", 'always', 'ready', 'to', 'solve', 'a', 'new', 'mystery', ',', 'coolav', \"''\", \"''\", 'shaurya', ',', 'shaurya', ',', 'coolav', \"''\", \"''\", 'he', \"'s\", 'a', 'computer', 'science', 'and', 'engineering', 'pro', ',', 'coolav', \"''\", \"''\", 'shaurya', ',', 'shaurya', ',', 'coolav', \"''\", \"''\", 'he', \"'s\", 'got', 'the', 'skills', 'and', 'knowledge', 'to', 'go', 'far', ',', 'oh', ',', 'coolav', \"''\", \"''\", 'shaurya', \"'s\", 'always', 'learning', ',', 'expanding', 'his', 'mind', ',', 'coolav', \"''\", \"''\", 'he', \"'s\", 'got', 'a', 'bright', 'future', 'ahead', ',', 'that', \"'s\", 'easy', 'to', 'find', ',', 'coolav', \"''\", \"''\", 'he', \"'s\", 'got', 'a', 'knack', 'for', 'logic', 'and', 'problem-solving', 'too', ',', 'coolav', \"''\", \"''\", 'and', 'he', \"'s\", 'always', 'ready', 'to', 'take', 'on', 'something', 'new', ',', 'coolav', \"''\", \"''\", 'shaurya', ',', 'shaurya', ',', 'coolav', \"''\", \"''\", 'he', \"'s\", 'a', 'computer', 'science', 'and', 'engineering', 'pro', ',', 'coolav', \"''\", \"''\", 'shaurya', ',', 'shaurya', ',', 'coolav', \"''\", \"''\", 'he', \"'s\", 'got', 'the', 'skills', 'and', 'knowledge', 'to', 'go', 'far', ',', 'oh', ',', 'coolav', \"''\", \"''\", 'shaurya', \"'s\", 'got', 'a', 'bright', 'future', 'ahead', ',', 'coolav', \"''\", \"''\", 'he', \"'s\", 'got', 'the', 'skills', 'and', 'knowledge', 'to', 'succeed', ',', 'coolav', \"''\", \"''\", 'with', 'his', 'hard', 'work', 'and', 'determination', ',', 'he', \"'ll\", 'go', 'far', ',', 'coolav', \"''\", \"''\", 'in', 'the', 'world', 'of', 'computer', 'science', 'and', 'engineering', ',', 'coolav', \"''\", \"''\", 'shaurya', ',', 'shaurya', ',', 'coolav', \"''\", \"''\", 'he', \"'s\", 'a', 'computer', 'science', 'and', 'engineering', 'pro', ',', 'coolav', \"''\", \"''\", 'shaurya', ',', 'shaurya', ',', 'coolav', \"''\", \"''\", 'he', \"'s\", 'got', 'the', 'skills', 'and', 'knowledge', 'to', 'go', 'far', ',', 'oh', ',', 'coolav', \"''\"]\n"
          ]
        },
        {
          "name": "stderr",
          "output_type": "stream",
          "text": [
            "[nltk_data] Downloading package punkt to /root/nltk_data...\n",
            "[nltk_data]   Package punkt is already up-to-date!\n"
          ]
        }
      ],
      "source": [
        "\n",
        "import nltk\n",
        "from nltk import word_tokenize\n",
        "import string\n",
        "\n",
        "nltk.download('punkt')\n",
        "\n",
        "def clean(text):\n",
        "    text = text.lower()\n",
        "    printable = set(string.printable)\n",
        "    text = filter(lambda x: x in printable, text)\n",
        "    text = \"\".join(list(text))\n",
        "    return text\n",
        "\n",
        "Cleaned_text = clean(Text)\n",
        "print(Cleaned_text)\n",
        "text = word_tokenize(Cleaned_text)\n",
        "\n",
        "print (\"Tokenized Text: \\n\")\n",
        "print (text)"
      ]
    },
    {
      "cell_type": "code",
      "execution_count": null,
      "metadata": {
        "colab": {
          "base_uri": "https://localhost:8080/"
        },
        "id": "NIL__iPhb6La",
        "outputId": "8a437c1c-0618-4449-d6c1-e566aaeb7df8"
      },
      "outputs": [
        {
          "name": "stdout",
          "output_type": "stream",
          "text": [
            "Tokenized Text with POS tags: \n",
            "\n",
            "[('``', '``'), ('shaurya', 'NN'), (\"'s\", 'POS'), ('got', 'VBD'), ('a', 'DT'), ('love', 'NN'), ('for', 'IN'), ('all', 'DT'), ('things', 'NNS'), ('tech', 'NN'), (',', ','), ('coolav', 'NN'), (\"''\", \"''\"), ('he', 'PRP'), (\"'s\", 'VBZ'), ('always', 'RB'), ('coding', 'JJ'), (',', ','), ('day', 'NN'), ('and', 'CC'), ('night', 'NN'), (',', ','), ('coolav', 'NN'), (\"''\", \"''\"), (\"''\", \"''\"), ('he', 'PRP'), (\"'s\", 'VBZ'), ('got', 'VBD'), ('a', 'DT'), ('passion', 'NN'), ('for', 'IN'), ('computers', 'NNS'), (',', ','), ('it', 'PRP'), (\"'s\", 'VBZ'), ('clear', 'JJ'), ('to', 'TO'), ('see', 'VB'), (',', ','), ('coolav', 'VB'), (\"''\", \"''\"), (\"''\", \"''\"), ('and', 'CC'), ('he', 'PRP'), (\"'s\", 'VBZ'), ('always', 'RB'), ('ready', 'JJ'), ('to', 'TO'), ('solve', 'VB'), ('a', 'DT'), ('new', 'JJ'), ('mystery', 'NN'), (',', ','), ('coolav', 'NN'), (\"''\", \"''\"), (\"''\", \"''\"), ('shaurya', 'NN'), (',', ','), ('shaurya', 'NN'), (',', ','), ('coolav', 'NN'), (\"''\", \"''\"), (\"''\", \"''\"), ('he', 'PRP'), (\"'s\", 'VBZ'), ('a', 'DT'), ('computer', 'NN'), ('science', 'NN'), ('and', 'CC'), ('engineering', 'NN'), ('pro', 'NN'), (',', ','), ('coolav', 'NN'), (\"''\", \"''\"), (\"''\", \"''\"), ('shaurya', 'NN'), (',', ','), ('shaurya', 'NN'), (',', ','), ('coolav', 'NN'), (\"''\", \"''\"), (\"''\", \"''\"), ('he', 'PRP'), (\"'s\", 'VBZ'), ('got', 'VBD'), ('the', 'DT'), ('skills', 'NNS'), ('and', 'CC'), ('knowledge', 'NN'), ('to', 'TO'), ('go', 'VB'), ('far', 'RB'), (',', ','), ('oh', 'UH'), (',', ','), ('coolav', 'NN'), (\"''\", \"''\"), (\"''\", \"''\"), ('shaurya', 'NN'), (\"'s\", 'POS'), ('always', 'RB'), ('learning', 'NN'), (',', ','), ('expanding', 'VBG'), ('his', 'PRP$'), ('mind', 'NN'), (',', ','), ('coolav', 'NN'), (\"''\", \"''\"), (\"''\", \"''\"), ('he', 'PRP'), (\"'s\", 'VBZ'), ('got', 'VBD'), ('a', 'DT'), ('bright', 'JJ'), ('future', 'NN'), ('ahead', 'RB'), (',', ','), ('that', 'DT'), (\"'s\", 'VBZ'), ('easy', 'JJ'), ('to', 'TO'), ('find', 'VB'), (',', ','), ('coolav', 'NN'), (\"''\", \"''\"), (\"''\", \"''\"), ('he', 'PRP'), (\"'s\", 'VBZ'), ('got', 'VBD'), ('a', 'DT'), ('knack', 'NN'), ('for', 'IN'), ('logic', 'JJ'), ('and', 'CC'), ('problem-solving', 'JJ'), ('too', 'RB'), (',', ','), ('coolav', 'NN'), (\"''\", \"''\"), (\"''\", \"''\"), ('and', 'CC'), ('he', 'PRP'), (\"'s\", 'VBZ'), ('always', 'RB'), ('ready', 'JJ'), ('to', 'TO'), ('take', 'VB'), ('on', 'IN'), ('something', 'NN'), ('new', 'JJ'), (',', ','), ('coolav', 'NN'), (\"''\", \"''\"), (\"''\", \"''\"), ('shaurya', 'NN'), (',', ','), ('shaurya', 'NN'), (',', ','), ('coolav', 'NN'), (\"''\", \"''\"), (\"''\", \"''\"), ('he', 'PRP'), (\"'s\", 'VBZ'), ('a', 'DT'), ('computer', 'NN'), ('science', 'NN'), ('and', 'CC'), ('engineering', 'NN'), ('pro', 'NN'), (',', ','), ('coolav', 'NN'), (\"''\", \"''\"), (\"''\", \"''\"), ('shaurya', 'NN'), (',', ','), ('shaurya', 'NN'), (',', ','), ('coolav', 'NN'), (\"''\", \"''\"), (\"''\", \"''\"), ('he', 'PRP'), (\"'s\", 'VBZ'), ('got', 'VBD'), ('the', 'DT'), ('skills', 'NNS'), ('and', 'CC'), ('knowledge', 'NN'), ('to', 'TO'), ('go', 'VB'), ('far', 'RB'), (',', ','), ('oh', 'UH'), (',', ','), ('coolav', 'NN'), (\"''\", \"''\"), (\"''\", \"''\"), ('shaurya', 'NN'), (\"'s\", 'POS'), ('got', 'VBD'), ('a', 'DT'), ('bright', 'JJ'), ('future', 'NN'), ('ahead', 'RB'), (',', ','), ('coolav', 'NN'), (\"''\", \"''\"), (\"''\", \"''\"), ('he', 'PRP'), (\"'s\", 'VBZ'), ('got', 'VBD'), ('the', 'DT'), ('skills', 'NNS'), ('and', 'CC'), ('knowledge', 'NN'), ('to', 'TO'), ('succeed', 'VB'), (',', ','), ('coolav', 'NN'), (\"''\", \"''\"), (\"''\", \"''\"), ('with', 'IN'), ('his', 'PRP$'), ('hard', 'JJ'), ('work', 'NN'), ('and', 'CC'), ('determination', 'NN'), (',', ','), ('he', 'PRP'), (\"'ll\", 'MD'), ('go', 'VB'), ('far', 'RB'), (',', ','), ('coolav', 'NN'), (\"''\", \"''\"), (\"''\", \"''\"), ('in', 'IN'), ('the', 'DT'), ('world', 'NN'), ('of', 'IN'), ('computer', 'NN'), ('science', 'NN'), ('and', 'CC'), ('engineering', 'NN'), (',', ','), ('coolav', 'NN'), (\"''\", \"''\"), (\"''\", \"''\"), ('shaurya', 'NN'), (',', ','), ('shaurya', 'NN'), (',', ','), ('coolav', 'NN'), (\"''\", \"''\"), (\"''\", \"''\"), ('he', 'PRP'), (\"'s\", 'VBZ'), ('a', 'DT'), ('computer', 'NN'), ('science', 'NN'), ('and', 'CC'), ('engineering', 'NN'), ('pro', 'NN'), (',', ','), ('coolav', 'NN'), (\"''\", \"''\"), (\"''\", \"''\"), ('shaurya', 'NN'), (',', ','), ('shaurya', 'NN'), (',', ','), ('coolav', 'NN'), (\"''\", \"''\"), (\"''\", \"''\"), ('he', 'PRP'), (\"'s\", 'VBZ'), ('got', 'VBD'), ('the', 'DT'), ('skills', 'NNS'), ('and', 'CC'), ('knowledge', 'NN'), ('to', 'TO'), ('go', 'VB'), ('far', 'RB'), (',', ','), ('oh', 'UH'), (',', ','), ('coolav', 'NN'), (\"''\", \"''\")]\n"
          ]
        },
        {
          "name": "stderr",
          "output_type": "stream",
          "text": [
            "[nltk_data] Downloading package averaged_perceptron_tagger to\n",
            "[nltk_data]     /root/nltk_data...\n",
            "[nltk_data]   Package averaged_perceptron_tagger is already up-to-\n",
            "[nltk_data]       date!\n"
          ]
        }
      ],
      "source": [
        "nltk.download('averaged_perceptron_tagger')\n",
        "\n",
        "POS_tag = nltk.pos_tag(text)\n",
        "\n",
        "print (\"Tokenized Text with POS tags: \\n\")\n",
        "print (POS_tag)"
      ]
    },
    {
      "cell_type": "code",
      "execution_count": null,
      "metadata": {
        "colab": {
          "base_uri": "https://localhost:8080/"
        },
        "id": "Zj8W5ruMb6La",
        "outputId": "6f396fc2-142d-446b-d94c-cb9456db4323"
      },
      "outputs": [
        {
          "name": "stdout",
          "output_type": "stream",
          "text": [
            "Text tokens after lemmatization of adjectives and nouns: \n",
            "\n",
            "['``', 'shaurya', \"'s\", 'got', 'a', 'love', 'for', 'all', 'thing', 'tech', ',', 'coolav', \"''\", 'he', \"'s\", 'always', 'coding', ',', 'day', 'and', 'night', ',', 'coolav', \"''\", \"''\", 'he', \"'s\", 'got', 'a', 'passion', 'for', 'computer', ',', 'it', \"'s\", 'clear', 'to', 'see', ',', 'coolav', \"''\", \"''\", 'and', 'he', \"'s\", 'always', 'ready', 'to', 'solve', 'a', 'new', 'mystery', ',', 'coolav', \"''\", \"''\", 'shaurya', ',', 'shaurya', ',', 'coolav', \"''\", \"''\", 'he', \"'s\", 'a', 'computer', 'science', 'and', 'engineering', 'pro', ',', 'coolav', \"''\", \"''\", 'shaurya', ',', 'shaurya', ',', 'coolav', \"''\", \"''\", 'he', \"'s\", 'got', 'the', 'skill', 'and', 'knowledge', 'to', 'go', 'far', ',', 'oh', ',', 'coolav', \"''\", \"''\", 'shaurya', \"'s\", 'always', 'learning', ',', 'expanding', 'his', 'mind', ',', 'coolav', \"''\", \"''\", 'he', \"'s\", 'got', 'a', 'bright', 'future', 'ahead', ',', 'that', \"'s\", 'easy', 'to', 'find', ',', 'coolav', \"''\", \"''\", 'he', \"'s\", 'got', 'a', 'knack', 'for', 'logic', 'and', 'problem-solving', 'too', ',', 'coolav', \"''\", \"''\", 'and', 'he', \"'s\", 'always', 'ready', 'to', 'take', 'on', 'something', 'new', ',', 'coolav', \"''\", \"''\", 'shaurya', ',', 'shaurya', ',', 'coolav', \"''\", \"''\", 'he', \"'s\", 'a', 'computer', 'science', 'and', 'engineering', 'pro', ',', 'coolav', \"''\", \"''\", 'shaurya', ',', 'shaurya', ',', 'coolav', \"''\", \"''\", 'he', \"'s\", 'got', 'the', 'skill', 'and', 'knowledge', 'to', 'go', 'far', ',', 'oh', ',', 'coolav', \"''\", \"''\", 'shaurya', \"'s\", 'got', 'a', 'bright', 'future', 'ahead', ',', 'coolav', \"''\", \"''\", 'he', \"'s\", 'got', 'the', 'skill', 'and', 'knowledge', 'to', 'succeed', ',', 'coolav', \"''\", \"''\", 'with', 'his', 'hard', 'work', 'and', 'determination', ',', 'he', \"'ll\", 'go', 'far', ',', 'coolav', \"''\", \"''\", 'in', 'the', 'world', 'of', 'computer', 'science', 'and', 'engineering', ',', 'coolav', \"''\", \"''\", 'shaurya', ',', 'shaurya', ',', 'coolav', \"''\", \"''\", 'he', \"'s\", 'a', 'computer', 'science', 'and', 'engineering', 'pro', ',', 'coolav', \"''\", \"''\", 'shaurya', ',', 'shaurya', ',', 'coolav', \"''\", \"''\", 'he', \"'s\", 'got', 'the', 'skill', 'and', 'knowledge', 'to', 'go', 'far', ',', 'oh', ',', 'coolav', \"''\"]\n"
          ]
        },
        {
          "name": "stderr",
          "output_type": "stream",
          "text": [
            "[nltk_data] Downloading package wordnet to /root/nltk_data...\n",
            "[nltk_data]   Package wordnet is already up-to-date!\n"
          ]
        }
      ],
      "source": [
        "nltk.download('wordnet')\n",
        "from nltk.stem import WordNetLemmatizer\n",
        "\n",
        "wordnet_lemmatizer = WordNetLemmatizer()\n",
        "\n",
        "adjective_tags = ['JJ','JJR','JJS']\n",
        "\n",
        "lemmatized_text = []\n",
        "\n",
        "for word in POS_tag:\n",
        "    if word[1] in adjective_tags:\n",
        "        lemmatized_text.append(str(wordnet_lemmatizer.lemmatize(word[0],pos=\"a\")))\n",
        "    else:\n",
        "        lemmatized_text.append(str(wordnet_lemmatizer.lemmatize(word[0]))) #default POS = noun\n",
        "\n",
        "print (\"Text tokens after lemmatization of adjectives and nouns: \\n\")\n",
        "print (lemmatized_text)"
      ]
    },
    {
      "cell_type": "code",
      "execution_count": null,
      "metadata": {
        "colab": {
          "base_uri": "https://localhost:8080/"
        },
        "id": "zPBXZrPub6Lb",
        "outputId": "62af281e-b517-434d-8d1b-e25163d134c8"
      },
      "outputs": [
        {
          "name": "stdout",
          "output_type": "stream",
          "text": [
            "Lemmatized text with POS tags: \n",
            "\n",
            "[('``', '``'), ('shaurya', 'NN'), (\"'s\", 'POS'), ('got', 'VBD'), ('a', 'DT'), ('love', 'NN'), ('for', 'IN'), ('all', 'DT'), ('thing', 'NN'), ('tech', 'NN'), (',', ','), ('coolav', 'NN'), (\"''\", \"''\"), ('he', 'PRP'), (\"'s\", 'VBZ'), ('always', 'RB'), ('coding', 'JJ'), (',', ','), ('day', 'NN'), ('and', 'CC'), ('night', 'NN'), (',', ','), ('coolav', 'NN'), (\"''\", \"''\"), (\"''\", \"''\"), ('he', 'PRP'), (\"'s\", 'VBZ'), ('got', 'VBD'), ('a', 'DT'), ('passion', 'NN'), ('for', 'IN'), ('computer', 'NN'), (',', ','), ('it', 'PRP'), (\"'s\", 'VBZ'), ('clear', 'JJ'), ('to', 'TO'), ('see', 'VB'), (',', ','), ('coolav', 'VB'), (\"''\", \"''\"), (\"''\", \"''\"), ('and', 'CC'), ('he', 'PRP'), (\"'s\", 'VBZ'), ('always', 'RB'), ('ready', 'JJ'), ('to', 'TO'), ('solve', 'VB'), ('a', 'DT'), ('new', 'JJ'), ('mystery', 'NN'), (',', ','), ('coolav', 'NN'), (\"''\", \"''\"), (\"''\", \"''\"), ('shaurya', 'NN'), (',', ','), ('shaurya', 'NN'), (',', ','), ('coolav', 'NN'), (\"''\", \"''\"), (\"''\", \"''\"), ('he', 'PRP'), (\"'s\", 'VBZ'), ('a', 'DT'), ('computer', 'NN'), ('science', 'NN'), ('and', 'CC'), ('engineering', 'NN'), ('pro', 'NN'), (',', ','), ('coolav', 'NN'), (\"''\", \"''\"), (\"''\", \"''\"), ('shaurya', 'NN'), (',', ','), ('shaurya', 'NN'), (',', ','), ('coolav', 'NN'), (\"''\", \"''\"), (\"''\", \"''\"), ('he', 'PRP'), (\"'s\", 'VBZ'), ('got', 'VBD'), ('the', 'DT'), ('skill', 'NN'), ('and', 'CC'), ('knowledge', 'NN'), ('to', 'TO'), ('go', 'VB'), ('far', 'RB'), (',', ','), ('oh', 'UH'), (',', ','), ('coolav', 'NN'), (\"''\", \"''\"), (\"''\", \"''\"), ('shaurya', 'NN'), (\"'s\", 'POS'), ('always', 'RB'), ('learning', 'NN'), (',', ','), ('expanding', 'VBG'), ('his', 'PRP$'), ('mind', 'NN'), (',', ','), ('coolav', 'NN'), (\"''\", \"''\"), (\"''\", \"''\"), ('he', 'PRP'), (\"'s\", 'VBZ'), ('got', 'VBD'), ('a', 'DT'), ('bright', 'JJ'), ('future', 'NN'), ('ahead', 'RB'), (',', ','), ('that', 'DT'), (\"'s\", 'VBZ'), ('easy', 'JJ'), ('to', 'TO'), ('find', 'VB'), (',', ','), ('coolav', 'NN'), (\"''\", \"''\"), (\"''\", \"''\"), ('he', 'PRP'), (\"'s\", 'VBZ'), ('got', 'VBD'), ('a', 'DT'), ('knack', 'NN'), ('for', 'IN'), ('logic', 'JJ'), ('and', 'CC'), ('problem-solving', 'JJ'), ('too', 'RB'), (',', ','), ('coolav', 'NN'), (\"''\", \"''\"), (\"''\", \"''\"), ('and', 'CC'), ('he', 'PRP'), (\"'s\", 'VBZ'), ('always', 'RB'), ('ready', 'JJ'), ('to', 'TO'), ('take', 'VB'), ('on', 'IN'), ('something', 'NN'), ('new', 'JJ'), (',', ','), ('coolav', 'NN'), (\"''\", \"''\"), (\"''\", \"''\"), ('shaurya', 'NN'), (',', ','), ('shaurya', 'NN'), (',', ','), ('coolav', 'NN'), (\"''\", \"''\"), (\"''\", \"''\"), ('he', 'PRP'), (\"'s\", 'VBZ'), ('a', 'DT'), ('computer', 'NN'), ('science', 'NN'), ('and', 'CC'), ('engineering', 'NN'), ('pro', 'NN'), (',', ','), ('coolav', 'NN'), (\"''\", \"''\"), (\"''\", \"''\"), ('shaurya', 'NN'), (',', ','), ('shaurya', 'NN'), (',', ','), ('coolav', 'NN'), (\"''\", \"''\"), (\"''\", \"''\"), ('he', 'PRP'), (\"'s\", 'VBZ'), ('got', 'VBD'), ('the', 'DT'), ('skill', 'NN'), ('and', 'CC'), ('knowledge', 'NN'), ('to', 'TO'), ('go', 'VB'), ('far', 'RB'), (',', ','), ('oh', 'UH'), (',', ','), ('coolav', 'NN'), (\"''\", \"''\"), (\"''\", \"''\"), ('shaurya', 'NN'), (\"'s\", 'POS'), ('got', 'VBD'), ('a', 'DT'), ('bright', 'JJ'), ('future', 'NN'), ('ahead', 'RB'), (',', ','), ('coolav', 'NN'), (\"''\", \"''\"), (\"''\", \"''\"), ('he', 'PRP'), (\"'s\", 'VBZ'), ('got', 'VBD'), ('the', 'DT'), ('skill', 'NN'), ('and', 'CC'), ('knowledge', 'NN'), ('to', 'TO'), ('succeed', 'VB'), (',', ','), ('coolav', 'NN'), (\"''\", \"''\"), (\"''\", \"''\"), ('with', 'IN'), ('his', 'PRP$'), ('hard', 'JJ'), ('work', 'NN'), ('and', 'CC'), ('determination', 'NN'), (',', ','), ('he', 'PRP'), (\"'ll\", 'MD'), ('go', 'VB'), ('far', 'RB'), (',', ','), ('coolav', 'NN'), (\"''\", \"''\"), (\"''\", \"''\"), ('in', 'IN'), ('the', 'DT'), ('world', 'NN'), ('of', 'IN'), ('computer', 'NN'), ('science', 'NN'), ('and', 'CC'), ('engineering', 'NN'), (',', ','), ('coolav', 'NN'), (\"''\", \"''\"), (\"''\", \"''\"), ('shaurya', 'NN'), (',', ','), ('shaurya', 'NN'), (',', ','), ('coolav', 'NN'), (\"''\", \"''\"), (\"''\", \"''\"), ('he', 'PRP'), (\"'s\", 'VBZ'), ('a', 'DT'), ('computer', 'NN'), ('science', 'NN'), ('and', 'CC'), ('engineering', 'NN'), ('pro', 'NN'), (',', ','), ('coolav', 'NN'), (\"''\", \"''\"), (\"''\", \"''\"), ('shaurya', 'NN'), (',', ','), ('shaurya', 'NN'), (',', ','), ('coolav', 'NN'), (\"''\", \"''\"), (\"''\", \"''\"), ('he', 'PRP'), (\"'s\", 'VBZ'), ('got', 'VBD'), ('the', 'DT'), ('skill', 'NN'), ('and', 'CC'), ('knowledge', 'NN'), ('to', 'TO'), ('go', 'VB'), ('far', 'RB'), (',', ','), ('oh', 'UH'), (',', ','), ('coolav', 'NN'), (\"''\", \"''\")]\n"
          ]
        }
      ],
      "source": [
        "POS_tag = nltk.pos_tag(lemmatized_text)\n",
        "\n",
        "print (\"Lemmatized text with POS tags: \\n\")\n",
        "print (POS_tag)"
      ]
    },
    {
      "cell_type": "code",
      "execution_count": null,
      "metadata": {
        "id": "Jze-x-jCb6Lb"
      },
      "outputs": [],
      "source": [
        "stopwords = []\n",
        "\n",
        "wanted_POS = ['NN','NNS','NNP','NNPS','JJ','JJR','JJS','VBG','FW']\n",
        "\n",
        "for word in POS_tag:\n",
        "    if word[1] not in wanted_POS:\n",
        "        stopwords.append(word[0])\n",
        "\n",
        "punctuations = list(str(string.punctuation))\n",
        "\n",
        "stopwords = stopwords + punctuations"
      ]
    },
    {
      "cell_type": "code",
      "execution_count": null,
      "metadata": {
        "id": "ofKm4s69b6Lc"
      },
      "outputs": [],
      "source": [
        "stopword_file = open(\"/content/long_stopwords.txt\", \"r\")\n",
        "#Source = https://www.ranks.nl/stopwords\n",
        "\n",
        "lots_of_stopwords = []\n",
        "\n",
        "for line in stopword_file.readlines():\n",
        "    lots_of_stopwords.append(str(line.strip()))\n",
        "\n",
        "stopwords_plus = []\n",
        "stopwords_plus = stopwords + lots_of_stopwords\n",
        "stopwords_plus = set(stopwords_plus)\n",
        "\n",
        "#Stopwords_plus contain total set of all stopwords"
      ]
    },
    {
      "cell_type": "code",
      "execution_count": null,
      "metadata": {
        "colab": {
          "base_uri": "https://localhost:8080/"
        },
        "id": "HW2ta1QXb6Lc",
        "outputId": "513d1929-b7c4-4df3-d7e2-139de7f45b24"
      },
      "outputs": [
        {
          "name": "stdout",
          "output_type": "stream",
          "text": [
            "['shaurya', 'love', 'thing', 'tech', 'coding', 'day', 'night', 'passion', 'computer', 'clear', 'ready', 'mystery', 'shaurya', 'shaurya', 'computer', 'science', 'engineering', 'pro', 'shaurya', 'shaurya', 'skill', 'knowledge', 'shaurya', 'learning', 'expanding', 'mind', 'bright', 'future', 'easy', 'knack', 'logic', 'problem-solving', 'ready', 'shaurya', 'shaurya', 'computer', 'science', 'engineering', 'pro', 'shaurya', 'shaurya', 'skill', 'knowledge', 'shaurya', 'bright', 'future', 'skill', 'knowledge', 'hard', 'work', 'determination', 'computer', 'science', 'engineering', 'shaurya', 'shaurya', 'computer', 'science', 'engineering', 'pro', 'shaurya', 'shaurya', 'skill', 'knowledge']\n"
          ]
        }
      ],
      "source": [
        "processed_text = []\n",
        "for word in lemmatized_text:\n",
        "    if word not in stopwords_plus:\n",
        "        processed_text.append(word)\n",
        "print (processed_text)"
      ]
    },
    {
      "cell_type": "code",
      "execution_count": null,
      "metadata": {
        "colab": {
          "base_uri": "https://localhost:8080/"
        },
        "id": "LEC9_Pqsb6Ld",
        "outputId": "32842860-7df7-4acc-e7da-00d4b0c6d7d6"
      },
      "outputs": [
        {
          "name": "stdout",
          "output_type": "stream",
          "text": [
            "['skill', 'bright', 'day', 'computer', 'pro', 'determination', 'logic', 'learning', 'mystery', 'ready', 'knack', 'passion', 'knowledge', 'shaurya', 'tech', 'clear', 'work', 'coding', 'love', 'easy', 'science', 'mind', 'problem-solving', 'hard', 'night', 'expanding', 'thing', 'engineering', 'future']\n"
          ]
        }
      ],
      "source": [
        "vocabulary = list(set(processed_text))\n",
        "print (vocabulary)"
      ]
    },
    {
      "cell_type": "code",
      "execution_count": null,
      "metadata": {
        "id": "kegCmG39b6Ld"
      },
      "outputs": [],
      "source": [
        "import numpy as np\n",
        "import math\n",
        "vocab_len = len(vocabulary)\n",
        "\n",
        "weighted_edge = np.zeros((vocab_len,vocab_len),dtype=np.float32)\n",
        "\n",
        "score = np.zeros((vocab_len),dtype=np.float32)\n",
        "window_size = 3\n",
        "covered_coocurrences = []\n",
        "\n",
        "for i in range(0,vocab_len):\n",
        "    score[i]=1\n",
        "    for j in range(0,vocab_len):\n",
        "        if j==i:\n",
        "            weighted_edge[i][j]=0\n",
        "        else:\n",
        "            for window_start in range(0,(len(processed_text)-window_size)):\n",
        "\n",
        "                window_end = window_start+window_size\n",
        "\n",
        "                window = processed_text[window_start:window_end]\n",
        "\n",
        "                if (vocabulary[i] in window) and (vocabulary[j] in window):\n",
        "\n",
        "                    index_of_i = window_start + window.index(vocabulary[i])\n",
        "                    index_of_j = window_start + window.index(vocabulary[j])\n",
        "\n",
        "                    # index_of_x is the absolute position of the xth term in the window\n",
        "                    # (counting from 0)\n",
        "                    # in the processed_text\n",
        "\n",
        "                    if [index_of_i,index_of_j] not in covered_coocurrences:\n",
        "                        weighted_edge[i][j]+=1/math.fabs(index_of_i-index_of_j)\n",
        "                        covered_coocurrences.append([index_of_i,index_of_j])\n"
      ]
    },
    {
      "cell_type": "code",
      "execution_count": null,
      "metadata": {
        "colab": {
          "base_uri": "https://localhost:8080/"
        },
        "id": "0gKCp2DSb6Ld",
        "outputId": "f3c69d80-9af3-4cbe-a4f8-1cf4ae47df80"
      },
      "outputs": [
        {
          "name": "stdout",
          "output_type": "stream",
          "text": [
            "Score of skill: 1.0\n",
            "Score of bright: 1.0\n",
            "Score of day: 1.0\n",
            "Score of computer: 1.0\n",
            "Score of pro: 1.0\n",
            "Score of determination: 1.0\n",
            "Score of logic: 1.0\n",
            "Score of learning: 1.0\n",
            "Score of mystery: 1.0\n",
            "Score of ready: 1.0\n",
            "Score of knack: 1.0\n",
            "Score of passion: 1.0\n",
            "Score of knowledge: 1.0\n",
            "Score of shaurya: 1.0\n",
            "Score of tech: 1.0\n",
            "Score of clear: 1.0\n",
            "Score of work: 1.0\n",
            "Score of coding: 1.0\n",
            "Score of love: 1.0\n",
            "Score of easy: 1.0\n",
            "Score of science: 1.0\n",
            "Score of mind: 1.0\n",
            "Score of problem-solving: 1.0\n",
            "Score of hard: 1.0\n",
            "Score of night: 1.0\n",
            "Score of expanding: 1.0\n",
            "Score of thing: 1.0\n",
            "Score of engineering: 1.0\n",
            "Score of future: 1.0\n"
          ]
        }
      ],
      "source": [
        "for i in range(0,vocab_len):\n",
        "    print(\"Score of \"+vocabulary[i]+\": \"+str(score[i]))"
      ]
    },
    {
      "cell_type": "code",
      "execution_count": null,
      "metadata": {
        "colab": {
          "base_uri": "https://localhost:8080/"
        },
        "id": "lHHxQWF2b6Le",
        "outputId": "38e09650-7903-4a5d-ba73-46b1b51acdaa"
      },
      "outputs": [
        {
          "name": "stdout",
          "output_type": "stream",
          "text": [
            "Partitioned Phrases (Candidate Keyphrases): \n",
            "\n",
            "[['shaurya'], ['love'], ['thing', 'tech'], ['coding'], ['day'], ['night'], ['passion'], ['computer'], ['clear'], ['ready'], ['mystery'], ['shaurya'], ['shaurya'], ['computer', 'science'], ['engineering', 'pro'], ['shaurya'], ['shaurya'], ['skill'], ['knowledge'], ['shaurya'], ['learning'], ['expanding'], ['mind'], ['bright', 'future'], ['easy'], ['knack'], ['logic'], ['problem-solving'], ['ready'], ['shaurya'], ['shaurya'], ['computer', 'science'], ['engineering', 'pro'], ['shaurya'], ['shaurya'], ['skill'], ['knowledge'], ['shaurya'], ['bright', 'future'], ['skill'], ['knowledge'], ['hard', 'work'], ['determination'], ['computer', 'science'], ['engineering'], ['shaurya'], ['shaurya'], ['computer', 'science'], ['engineering', 'pro'], ['shaurya'], ['shaurya'], ['skill'], ['knowledge']]\n"
          ]
        }
      ],
      "source": [
        "phrases = []\n",
        "\n",
        "phrase = \" \"\n",
        "for word in lemmatized_text:\n",
        "\n",
        "    if word in stopwords_plus:\n",
        "        if phrase!= \" \":\n",
        "            phrases.append(str(phrase).strip().split())\n",
        "        phrase = \" \"\n",
        "    elif word not in stopwords_plus:\n",
        "        phrase+=str(word)\n",
        "        phrase+=\" \"\n",
        "\n",
        "print(\"Partitioned Phrases (Candidate Keyphrases): \\n\")\n",
        "print(phrases)"
      ]
    },
    {
      "cell_type": "code",
      "execution_count": null,
      "metadata": {
        "colab": {
          "base_uri": "https://localhost:8080/"
        },
        "id": "GZ7TswjWb6Le",
        "outputId": "bf78c111-4f4c-42cb-9de5-10119429238b"
      },
      "outputs": [
        {
          "name": "stdout",
          "output_type": "stream",
          "text": [
            "Unique Phrases (Candidate Keyphrases): \n",
            "\n",
            "[['shaurya'], ['love'], ['thing', 'tech'], ['coding'], ['day'], ['night'], ['passion'], ['computer'], ['clear'], ['ready'], ['mystery'], ['computer', 'science'], ['engineering', 'pro'], ['skill'], ['knowledge'], ['learning'], ['expanding'], ['mind'], ['bright', 'future'], ['easy'], ['knack'], ['logic'], ['problem-solving'], ['hard', 'work'], ['determination'], ['engineering']]\n"
          ]
        }
      ],
      "source": [
        "unique_phrases = []\n",
        "\n",
        "for phrase in phrases:\n",
        "    if phrase not in unique_phrases:\n",
        "        unique_phrases.append(phrase)\n",
        "\n",
        "print(\"Unique Phrases (Candidate Keyphrases): \\n\")\n",
        "print(unique_phrases)"
      ]
    },
    {
      "cell_type": "code",
      "execution_count": null,
      "metadata": {
        "colab": {
          "base_uri": "https://localhost:8080/"
        },
        "id": "B8Eqgox-b6Le",
        "outputId": "142b9c00-ca08-402e-8e1e-7a5708eee895"
      },
      "outputs": [
        {
          "name": "stdout",
          "output_type": "stream",
          "text": [
            "Thinned Unique Phrases (Candidate Keyphrases): \n",
            "\n",
            "[['shaurya'], ['love'], ['thing', 'tech'], ['coding'], ['day'], ['night'], ['passion'], ['clear'], ['ready'], ['mystery'], ['computer', 'science'], ['engineering', 'pro'], ['skill'], ['knowledge'], ['learning'], ['expanding'], ['mind'], ['bright', 'future'], ['easy'], ['knack'], ['logic'], ['problem-solving'], ['hard', 'work'], ['determination']]\n"
          ]
        }
      ],
      "source": [
        "for word in vocabulary:\n",
        "    #print word\n",
        "    for phrase in unique_phrases:\n",
        "        if (word in phrase) and ([word] in unique_phrases) and (len(phrase)>1):\n",
        "            #if len(phrase)>1 then the current phrase is multi-worded.\n",
        "            #if the word in vocabulary is present in unique_phrases as a single-word-phrase\n",
        "            # and at the same time present as a word within a multi-worded phrase,\n",
        "            # then I will remove the single-word-phrase from the list.\n",
        "            unique_phrases.remove([word])\n",
        "\n",
        "print(\"Thinned Unique Phrases (Candidate Keyphrases): \\n\")\n",
        "print(unique_phrases)"
      ]
    },
    {
      "cell_type": "code",
      "execution_count": null,
      "metadata": {
        "colab": {
          "base_uri": "https://localhost:8080/"
        },
        "id": "sb1XRSn6b6Le",
        "outputId": "1c1ad59a-cd06-4770-e6b2-9d758f148408"
      },
      "outputs": [
        {
          "name": "stdout",
          "output_type": "stream",
          "text": [
            "Keyword: 'shaurya', Score: 1.0\n",
            "Keyword: 'love', Score: 1.0\n",
            "Keyword: 'thing tech', Score: 2.0\n",
            "Keyword: 'coding', Score: 1.0\n",
            "Keyword: 'day', Score: 1.0\n",
            "Keyword: 'night', Score: 1.0\n",
            "Keyword: 'passion', Score: 1.0\n",
            "Keyword: 'clear', Score: 1.0\n",
            "Keyword: 'ready', Score: 1.0\n",
            "Keyword: 'mystery', Score: 1.0\n",
            "Keyword: 'computer science', Score: 2.0\n",
            "Keyword: 'engineering pro', Score: 2.0\n",
            "Keyword: 'skill', Score: 1.0\n",
            "Keyword: 'knowledge', Score: 1.0\n",
            "Keyword: 'learning', Score: 1.0\n",
            "Keyword: 'expanding', Score: 1.0\n",
            "Keyword: 'mind', Score: 1.0\n",
            "Keyword: 'bright future', Score: 2.0\n",
            "Keyword: 'easy', Score: 1.0\n",
            "Keyword: 'knack', Score: 1.0\n",
            "Keyword: 'logic', Score: 1.0\n",
            "Keyword: 'problem-solving', Score: 1.0\n",
            "Keyword: 'hard work', Score: 2.0\n",
            "Keyword: 'determination', Score: 1.0\n"
          ]
        }
      ],
      "source": [
        "phrase_scores = []\n",
        "keywords = []\n",
        "for phrase in unique_phrases:\n",
        "    phrase_score=0\n",
        "    keyword = ''\n",
        "    for word in phrase:\n",
        "        keyword += str(word)\n",
        "        keyword += \" \"\n",
        "        phrase_score+=score[vocabulary.index(word)]\n",
        "    phrase_scores.append(phrase_score)\n",
        "    keywords.append(keyword.strip())\n",
        "\n",
        "i=0\n",
        "for keyword in keywords:\n",
        "    print (\"Keyword: '\"+str(keyword)+\"', Score: \"+str(phrase_scores[i]))\n",
        "    i+=1\n"
      ]
    },
    {
      "cell_type": "code",
      "execution_count": null,
      "metadata": {
        "colab": {
          "base_uri": "https://localhost:8080/"
        },
        "id": "UtTxTnEEb6Lf",
        "outputId": "062bbd4a-8eec-4bee-d6d6-56eccbf315c3"
      },
      "outputs": [
        {
          "name": "stdout",
          "output_type": "stream",
          "text": [
            "Keywords:\n",
            "\n",
            "engineering pro,  computer science,  thing tech,  bright future,  hard work,  love,  coding,  day,  night,  passion,  clear,  ready,  mystery,  determination,  skill,  knowledge,  learning,  expanding,  mind,  easy,  knack,  logic,  problem-solving,  shaurya,  "
          ]
        }
      ],
      "source": [
        "sorted_index = np.flip(np.argsort(phrase_scores),0)\n",
        "\n",
        "keywords_num = len(keywords)\n",
        "\n",
        "print(\"Keywords:\\n\")\n",
        "\n",
        "for i in range(0,keywords_num):\n",
        "    print(str(keywords[sorted_index[i]])+\", \", end=' ')"
      ]
    },
    {
      "cell_type": "code",
      "execution_count": null,
      "metadata": {
        "colab": {
          "base_uri": "https://localhost:8080/"
        },
        "id": "BOflN0pgb6Lf",
        "outputId": "183f0179-8005-4c53-c90f-400d972d3518"
      },
      "outputs": [
        {
          "name": "stdout",
          "output_type": "stream",
          "text": [
            "['shaurya', 'love', 'thing tech', 'coding', 'day', 'night', 'passion', 'clear', 'ready', 'mystery', 'computer science', 'engineering pro', 'skill', 'knowledge', 'learning', 'expanding', 'mind', 'bright future', 'easy', 'knack', 'logic', 'problem-solving', 'hard work', 'determination']\n"
          ]
        }
      ],
      "source": [
        "new_keywords =  keywords\n",
        "print(new_keywords)"
      ]
    },
    {
      "cell_type": "markdown",
      "metadata": {
        "id": "yhUsJGFub6Lf"
      },
      "source": [
        "# 1. Introduction\n"
      ]
    },
    {
      "cell_type": "markdown",
      "metadata": {
        "id": "smzZMgbWb6Lf"
      },
      "source": []
    },
    {
      "cell_type": "markdown",
      "metadata": {
        "id": "9khURq3xb6Lf"
      },
      "source": [
        "# 2. Data Preprocessing\n",
        "\n"
      ]
    },
    {
      "cell_type": "code",
      "execution_count": null,
      "metadata": {
        "id": "Aeha8Xmzb6Lg"
      },
      "outputs": [],
      "source": [
        "#using raw.txt which is combination of these two  text files\n",
        "# 1. Multidomain Pretrained Language Models for Green NLP\n",
        "# 2. Defending Against Neural Fake News\n"
      ]
    },
    {
      "cell_type": "code",
      "execution_count": null,
      "metadata": {
        "id": "ZkX1hW0ub6Lg"
      },
      "outputs": [],
      "source": [
        "#loading data to str  from raw.txt file"
      ]
    },
    {
      "cell_type": "code",
      "execution_count": null,
      "metadata": {
        "colab": {
          "base_uri": "https://localhost:8080/"
        },
        "id": "-0KhShELb6Lg",
        "outputId": "53297927-2c66-456e-9ffd-835e5aa28f4f"
      },
      "outputs": [
        {
          "name": "stderr",
          "output_type": "stream",
          "text": [
            "IOPub data rate exceeded.\n",
            "The notebook server will temporarily stop sending output\n",
            "to the client in order to avoid crashing it.\n",
            "To change this limit, set the config variable\n",
            "`--NotebookApp.iopub_data_rate_limit`.\n",
            "\n",
            "Current values:\n",
            "NotebookApp.iopub_data_rate_limit=1000000.0 (bytes/sec)\n",
            "NotebookApp.rate_limit_window=3.0 (secs)\n",
            "\n"
          ]
        }
      ],
      "source": [
        "import io\n",
        "\n",
        "def read_file(file_path):\n",
        "    with io.open(file_path, 'r', encoding='utf-8') as f:\n",
        "        return f.read()\n",
        "\n",
        "file_path = '/content/raw.txt'\n",
        "text = read_file(file_path)\n",
        "print(text)\n"
      ]
    },
    {
      "cell_type": "code",
      "execution_count": null,
      "metadata": {
        "id": "IKxMEQkxb6Lg"
      },
      "outputs": [],
      "source": [
        "#using nlp nltk library assign pos tags to each word of text string"
      ]
    },
    {
      "cell_type": "code",
      "execution_count": null,
      "metadata": {
        "colab": {
          "base_uri": "https://localhost:8080/"
        },
        "id": "OlAxdIPjb6Lh",
        "outputId": "b1671fb5-daac-421b-90b4-e9b5dbc5949d"
      },
      "outputs": [
        {
          "name": "stderr",
          "output_type": "stream",
          "text": [
            "IOPub data rate exceeded.\n",
            "The notebook server will temporarily stop sending output\n",
            "to the client in order to avoid crashing it.\n",
            "To change this limit, set the config variable\n",
            "`--NotebookApp.iopub_data_rate_limit`.\n",
            "\n",
            "Current values:\n",
            "NotebookApp.iopub_data_rate_limit=1000000.0 (bytes/sec)\n",
            "NotebookApp.rate_limit_window=3.0 (secs)\n",
            "\n"
          ]
        }
      ],
      "source": [
        "import nltk\n",
        "\n",
        "\n",
        "tokens = nltk.word_tokenize(text)\n",
        "\n",
        "tagged_tokens = nltk.pos_tag(tokens)\n",
        "\n",
        "keywords = [(token, tag) for token, tag in tagged_tokens]\n",
        "\n",
        "\n",
        "print(keywords)\n"
      ]
    },
    {
      "cell_type": "code",
      "execution_count": null,
      "metadata": {
        "id": "d6VnxwPdb6Lh"
      },
      "outputs": [],
      "source": [
        "# removing  entity which does't have any  pos tags"
      ]
    },
    {
      "cell_type": "code",
      "execution_count": null,
      "metadata": {
        "colab": {
          "base_uri": "https://localhost:8080/"
        },
        "id": "yYp9PO6Zb6Lh",
        "outputId": "f9b28b3a-5c1a-4f32-b567-1fa81af5ef32"
      },
      "outputs": [
        {
          "name": "stderr",
          "output_type": "stream",
          "text": [
            "IOPub data rate exceeded.\n",
            "The notebook server will temporarily stop sending output\n",
            "to the client in order to avoid crashing it.\n",
            "To change this limit, set the config variable\n",
            "`--NotebookApp.iopub_data_rate_limit`.\n",
            "\n",
            "Current values:\n",
            "NotebookApp.iopub_data_rate_limit=1000000.0 (bytes/sec)\n",
            "NotebookApp.rate_limit_window=3.0 (secs)\n",
            "\n"
          ]
        }
      ],
      "source": [
        "pos_tags_to_keep = ['CC', 'CD', 'DT', 'EX', 'FW', 'IN', 'JJ', 'JJR', 'JJS', 'LS', 'MD', 'NN', 'NNS', 'NNP', 'NNPS', 'PDT', 'POS', 'PRP', 'PRP$', 'RB', 'RBR', 'RBS', 'RP', 'TO', 'UH', 'VB', 'VBG', 'VBD', 'VBN', 'VBP', 'VBZ', 'WDT', 'WP', 'WRB']\n",
        "\n",
        "\n",
        "filtered_keywords = [keyword for keyword in keywords if keyword[1] in pos_tags_to_keep]\n",
        "\n",
        "print(filtered_keywords)\n"
      ]
    },
    {
      "cell_type": "code",
      "execution_count": null,
      "metadata": {
        "colab": {
          "base_uri": "https://localhost:8080/"
        },
        "id": "g4xGhO5yb6Lh",
        "outputId": "5d0595f8-53d3-45e1-f4dc-bc0c31501b8e"
      },
      "outputs": [
        {
          "name": "stderr",
          "output_type": "stream",
          "text": [
            "IOPub data rate exceeded.\n",
            "The notebook server will temporarily stop sending output\n",
            "to the client in order to avoid crashing it.\n",
            "To change this limit, set the config variable\n",
            "`--NotebookApp.iopub_data_rate_limit`.\n",
            "\n",
            "Current values:\n",
            "NotebookApp.iopub_data_rate_limit=1000000.0 (bytes/sec)\n",
            "NotebookApp.rate_limit_window=3.0 (secs)\n",
            "\n"
          ]
        }
      ],
      "source": [
        "#filtering so it contain keyword only\n",
        "import nltk\n",
        "from nltk.corpus import wordnet\n",
        "\n",
        "def is_english_keyword(word):\n",
        "    synsets = wordnet.synsets(word)\n",
        "    return len(synsets) > 0\n",
        "\n",
        "\n",
        "filtered_keywords_2 = [(keyword, pos) for keyword, pos in keywords if is_english_keyword(keyword)]\n",
        "\n",
        "print(filtered_keywords_2)\n"
      ]
    },
    {
      "cell_type": "code",
      "execution_count": null,
      "metadata": {
        "colab": {
          "base_uri": "https://localhost:8080/"
        },
        "id": "x2sJbUovb6Lh",
        "outputId": "0da7b5d2-f8e7-4548-96a4-27ffa1a0e79e"
      },
      "outputs": [
        {
          "data": {
            "text/plain": [
              "list"
            ]
          },
          "execution_count": 83,
          "metadata": {},
          "output_type": "execute_result"
        }
      ],
      "source": [
        "type(filtered_keywords_2)\n"
      ]
    },
    {
      "cell_type": "code",
      "execution_count": null,
      "metadata": {
        "id": "uX7xp9SCb6Lh"
      },
      "outputs": [],
      "source": [
        "# converting list into one csv file with keyword and pos-tags as labels"
      ]
    },
    {
      "cell_type": "code",
      "execution_count": null,
      "metadata": {
        "id": "hfUEIB-Ab6Li"
      },
      "outputs": [],
      "source": [
        "import csv\n",
        "\n",
        "def save_keywords_to_csv(keywords, output_file):\n",
        "    with open(output_file, 'w', newline='') as csvfile:\n",
        "        writer = csv.writer(csvfile)\n",
        "\n",
        "        # Write the header\n",
        "        writer.writerow(['Keywords', 'Label'])\n",
        "\n",
        "        # Write the keyword-label pairs\n",
        "        writer.writerows(keywords)\n",
        "\n",
        "output_file = 'data1.csv'\n",
        "save_keywords_to_csv(filtered_keywords_2, output_file)"
      ]
    },
    {
      "cell_type": "code",
      "execution_count": null,
      "metadata": {
        "colab": {
          "base_uri": "https://localhost:8080/"
        },
        "id": "1iZfPnO6b6Li",
        "outputId": "4068d222-5fc8-450b-9f8b-9a15f0165ede"
      },
      "outputs": [
        {
          "name": "stderr",
          "output_type": "stream",
          "text": [
            "IOPub data rate exceeded.\n",
            "The notebook server will temporarily stop sending output\n",
            "to the client in order to avoid crashing it.\n",
            "To change this limit, set the config variable\n",
            "`--NotebookApp.iopub_data_rate_limit`.\n",
            "\n",
            "Current values:\n",
            "NotebookApp.iopub_data_rate_limit=1000000.0 (bytes/sec)\n",
            "NotebookApp.rate_limit_window=3.0 (secs)\n",
            "\n"
          ]
        }
      ],
      "source": [
        "print(filtered_keywords_2)"
      ]
    },
    {
      "cell_type": "code",
      "execution_count": null,
      "metadata": {
        "id": "FB-aK7c3b6Li"
      },
      "outputs": [],
      "source": [
        "#Removing  every row which contain stopwords using long_stopwords.txt"
      ]
    },
    {
      "cell_type": "code",
      "execution_count": null,
      "metadata": {
        "id": "MoPWzlnlb6Li"
      },
      "outputs": [],
      "source": [
        "import csv\n",
        "\n",
        "def remove_matching_entries(csv_file, txt_file, output_file):\n",
        "    entries_to_remove = set()\n",
        "\n",
        "    # Read entries from the text file\n",
        "    with open(txt_file, 'r') as txt:\n",
        "        entries_to_remove = set(txt.read().lower().splitlines())\n",
        "\n",
        "    # Filter and write entries to the output CSV file\n",
        "    with open(csv_file, 'r') as csv_input, open(output_file, 'w', newline='') as csv_output:\n",
        "        reader = csv.reader(csv_input)\n",
        "        writer = csv.writer(csv_output)\n",
        "\n",
        "        for row in reader:\n",
        "            if not any(entry.lower() in [item.lower() for item in row] for entry in entries_to_remove):\n",
        "                writer.writerow(row)\n",
        "\n",
        "# Usage example\n",
        "remove_matching_entries('data1.csv', 'long_stopwords.txt', 'output.csv')\n"
      ]
    },
    {
      "cell_type": "code",
      "execution_count": null,
      "metadata": {
        "id": "FlS7UgtGb6Li"
      },
      "outputs": [],
      "source": [
        "# removing  numerical value\n",
        "import csv\n",
        "import re\n",
        "\n",
        "def remove_numeric_rows(csv_file, output_file):\n",
        "    # Regular expression pattern to match numerical data\n",
        "    pattern = re.compile(r'\\d')\n",
        "\n",
        "    # Filter and write rows without numerical data to the output CSV file\n",
        "    with open(csv_file, 'r') as csv_input, open(output_file, 'w', newline='') as csv_output:\n",
        "        reader = csv.reader(csv_input)\n",
        "        writer = csv.writer(csv_output)\n",
        "\n",
        "        for row in reader:\n",
        "            if not any(pattern.search(cell) for cell in row):\n",
        "                writer.writerow(row)\n",
        "\n",
        "# Usage example\n",
        "remove_numeric_rows('output.csv', 'data.csv')\n"
      ]
    },
    {
      "cell_type": "markdown",
      "metadata": {
        "id": "Tnyf86mhb6Li"
      },
      "source": [
        "## Load Data in Data frame\n"
      ]
    },
    {
      "cell_type": "code",
      "execution_count": null,
      "metadata": {
        "id": "XLWeFAyPb6Lj"
      },
      "outputs": [],
      "source": [
        "import pandas as pd\n",
        "\n",
        "df  =  pd.read_csv('data.csv')"
      ]
    },
    {
      "cell_type": "markdown",
      "metadata": {
        "id": "9uVbHMl6b6Ln"
      },
      "source": [
        "Shape of Data Frame\n"
      ]
    },
    {
      "cell_type": "code",
      "execution_count": null,
      "metadata": {
        "colab": {
          "base_uri": "https://localhost:8080/"
        },
        "id": "cXjQLheib6Ln",
        "outputId": "4e74f93e-a4dd-4f6a-bba5-77465ececcc4"
      },
      "outputs": [
        {
          "data": {
            "text/plain": [
              "(509015, 2)"
            ]
          },
          "execution_count": 91,
          "metadata": {},
          "output_type": "execute_result"
        }
      ],
      "source": [
        "df.shape"
      ]
    },
    {
      "cell_type": "markdown",
      "metadata": {
        "id": "eXw39AQYb6Ln"
      },
      "source": [
        "Checking For Null Values"
      ]
    },
    {
      "cell_type": "code",
      "execution_count": null,
      "metadata": {
        "colab": {
          "base_uri": "https://localhost:8080/"
        },
        "id": "81PQkz8sb6Lo",
        "outputId": "c57cbe52-7294-497b-ebe5-237180651116"
      },
      "outputs": [
        {
          "data": {
            "text/plain": [
              "Keywords    0\n",
              "Label       0\n",
              "dtype: int64"
            ]
          },
          "execution_count": 92,
          "metadata": {},
          "output_type": "execute_result"
        }
      ],
      "source": [
        "df.isnull().sum()\n"
      ]
    },
    {
      "cell_type": "markdown",
      "metadata": {
        "id": "9xCRMevCb6Lo"
      },
      "source": [
        "Get unique count for each variable\n"
      ]
    },
    {
      "cell_type": "code",
      "execution_count": null,
      "metadata": {
        "colab": {
          "base_uri": "https://localhost:8080/"
        },
        "id": "9cY61mUGb6Lo",
        "outputId": "a4fc58cc-ac89-4732-a6fe-d7332006fa1b"
      },
      "outputs": [
        {
          "data": {
            "text/plain": [
              "Keywords    27666\n",
              "Label          32\n",
              "dtype: int64"
            ]
          },
          "execution_count": 93,
          "metadata": {},
          "output_type": "execute_result"
        }
      ],
      "source": [
        "df.nunique()"
      ]
    },
    {
      "cell_type": "code",
      "execution_count": null,
      "metadata": {
        "colab": {
          "base_uri": "https://localhost:8080/"
        },
        "id": "2GsttyBFb6Lo",
        "outputId": "22d28ff9-e482-4c10-908e-057bb2855d72"
      },
      "outputs": [
        {
          "data": {
            "text/html": [
              "\n",
              "  <div id=\"df-f0752d40-e201-45ee-916c-f4e2697a0024\">\n",
              "    <div class=\"colab-df-container\">\n",
              "      <div>\n",
              "<style scoped>\n",
              "    .dataframe tbody tr th:only-of-type {\n",
              "        vertical-align: middle;\n",
              "    }\n",
              "\n",
              "    .dataframe tbody tr th {\n",
              "        vertical-align: top;\n",
              "    }\n",
              "\n",
              "    .dataframe thead th {\n",
              "        text-align: right;\n",
              "    }\n",
              "</style>\n",
              "<table border=\"1\" class=\"dataframe\">\n",
              "  <thead>\n",
              "    <tr style=\"text-align: right;\">\n",
              "      <th></th>\n",
              "      <th>Keywords</th>\n",
              "      <th>Label</th>\n",
              "    </tr>\n",
              "  </thead>\n",
              "  <tbody>\n",
              "    <tr>\n",
              "      <th>0</th>\n",
              "      <td>Language</td>\n",
              "      <td>NNP</td>\n",
              "    </tr>\n",
              "    <tr>\n",
              "      <th>1</th>\n",
              "      <td>Models</td>\n",
              "      <td>NNP</td>\n",
              "    </tr>\n",
              "    <tr>\n",
              "      <th>2</th>\n",
              "      <td>Green</td>\n",
              "      <td>NNP</td>\n",
              "    </tr>\n",
              "    <tr>\n",
              "      <th>3</th>\n",
              "      <td>NLP</td>\n",
              "      <td>NNP</td>\n",
              "    </tr>\n",
              "    <tr>\n",
              "      <th>4</th>\n",
              "      <td>CIS</td>\n",
              "      <td>NNP</td>\n",
              "    </tr>\n",
              "  </tbody>\n",
              "</table>\n",
              "</div>\n",
              "      <button class=\"colab-df-convert\" onclick=\"convertToInteractive('df-f0752d40-e201-45ee-916c-f4e2697a0024')\"\n",
              "              title=\"Convert this dataframe to an interactive table.\"\n",
              "              style=\"display:none;\">\n",
              "        \n",
              "  <svg xmlns=\"http://www.w3.org/2000/svg\" height=\"24px\"viewBox=\"0 0 24 24\"\n",
              "       width=\"24px\">\n",
              "    <path d=\"M0 0h24v24H0V0z\" fill=\"none\"/>\n",
              "    <path d=\"M18.56 5.44l.94 2.06.94-2.06 2.06-.94-2.06-.94-.94-2.06-.94 2.06-2.06.94zm-11 1L8.5 8.5l.94-2.06 2.06-.94-2.06-.94L8.5 2.5l-.94 2.06-2.06.94zm10 10l.94 2.06.94-2.06 2.06-.94-2.06-.94-.94-2.06-.94 2.06-2.06.94z\"/><path d=\"M17.41 7.96l-1.37-1.37c-.4-.4-.92-.59-1.43-.59-.52 0-1.04.2-1.43.59L10.3 9.45l-7.72 7.72c-.78.78-.78 2.05 0 2.83L4 21.41c.39.39.9.59 1.41.59.51 0 1.02-.2 1.41-.59l7.78-7.78 2.81-2.81c.8-.78.8-2.07 0-2.86zM5.41 20L4 18.59l7.72-7.72 1.47 1.35L5.41 20z\"/>\n",
              "  </svg>\n",
              "      </button>\n",
              "      \n",
              "  <style>\n",
              "    .colab-df-container {\n",
              "      display:flex;\n",
              "      flex-wrap:wrap;\n",
              "      gap: 12px;\n",
              "    }\n",
              "\n",
              "    .colab-df-convert {\n",
              "      background-color: #E8F0FE;\n",
              "      border: none;\n",
              "      border-radius: 50%;\n",
              "      cursor: pointer;\n",
              "      display: none;\n",
              "      fill: #1967D2;\n",
              "      height: 32px;\n",
              "      padding: 0 0 0 0;\n",
              "      width: 32px;\n",
              "    }\n",
              "\n",
              "    .colab-df-convert:hover {\n",
              "      background-color: #E2EBFA;\n",
              "      box-shadow: 0px 1px 2px rgba(60, 64, 67, 0.3), 0px 1px 3px 1px rgba(60, 64, 67, 0.15);\n",
              "      fill: #174EA6;\n",
              "    }\n",
              "\n",
              "    [theme=dark] .colab-df-convert {\n",
              "      background-color: #3B4455;\n",
              "      fill: #D2E3FC;\n",
              "    }\n",
              "\n",
              "    [theme=dark] .colab-df-convert:hover {\n",
              "      background-color: #434B5C;\n",
              "      box-shadow: 0px 1px 3px 1px rgba(0, 0, 0, 0.15);\n",
              "      filter: drop-shadow(0px 1px 2px rgba(0, 0, 0, 0.3));\n",
              "      fill: #FFFFFF;\n",
              "    }\n",
              "  </style>\n",
              "\n",
              "      <script>\n",
              "        const buttonEl =\n",
              "          document.querySelector('#df-f0752d40-e201-45ee-916c-f4e2697a0024 button.colab-df-convert');\n",
              "        buttonEl.style.display =\n",
              "          google.colab.kernel.accessAllowed ? 'block' : 'none';\n",
              "\n",
              "        async function convertToInteractive(key) {\n",
              "          const element = document.querySelector('#df-f0752d40-e201-45ee-916c-f4e2697a0024');\n",
              "          const dataTable =\n",
              "            await google.colab.kernel.invokeFunction('convertToInteractive',\n",
              "                                                     [key], {});\n",
              "          if (!dataTable) return;\n",
              "\n",
              "          const docLinkHtml = 'Like what you see? Visit the ' +\n",
              "            '<a target=\"_blank\" href=https://colab.research.google.com/notebooks/data_table.ipynb>data table notebook</a>'\n",
              "            + ' to learn more about interactive tables.';\n",
              "          element.innerHTML = '';\n",
              "          dataTable['output_type'] = 'display_data';\n",
              "          await google.colab.output.renderOutput(dataTable, element);\n",
              "          const docLink = document.createElement('div');\n",
              "          docLink.innerHTML = docLinkHtml;\n",
              "          element.appendChild(docLink);\n",
              "        }\n",
              "      </script>\n",
              "    </div>\n",
              "  </div>\n",
              "  "
            ],
            "text/plain": [
              "   Keywords Label\n",
              "0  Language   NNP\n",
              "1    Models   NNP\n",
              "2     Green   NNP\n",
              "3       NLP   NNP\n",
              "4       CIS   NNP"
            ]
          },
          "execution_count": 94,
          "metadata": {},
          "output_type": "execute_result"
        }
      ],
      "source": [
        "df.head()"
      ]
    },
    {
      "cell_type": "markdown",
      "metadata": {
        "id": "pkBjBZ8Mb6Lp"
      },
      "source": [
        "Checking Variables Data Types"
      ]
    },
    {
      "cell_type": "code",
      "execution_count": null,
      "metadata": {
        "colab": {
          "base_uri": "https://localhost:8080/"
        },
        "id": "gkqms2Jmb6Lp",
        "outputId": "7ce403cc-cc16-445f-e43d-916dc87ae359"
      },
      "outputs": [
        {
          "data": {
            "text/plain": [
              "Keywords    object\n",
              "Label       object\n",
              "dtype: object"
            ]
          },
          "execution_count": 95,
          "metadata": {},
          "output_type": "execute_result"
        }
      ],
      "source": [
        "df.dtypes\n"
      ]
    },
    {
      "cell_type": "markdown",
      "metadata": {
        "id": "kjnn9gaVb6Lp"
      },
      "source": [
        "# 3. EDA"
      ]
    },
    {
      "cell_type": "code",
      "execution_count": null,
      "metadata": {
        "colab": {
          "base_uri": "https://localhost:8080/"
        },
        "id": "8D6K76dLb6Lp",
        "outputId": "ecc01c0f-88c5-4313-a4dd-7247c963ef01"
      },
      "outputs": [
        {
          "name": "stdout",
          "output_type": "stream",
          "text": [
            "   Keywords Label\n",
            "0  Language   NNP\n",
            "1    Models   NNP\n",
            "2     Green   NNP\n",
            "3       NLP   NNP\n",
            "4       CIS   NNP\n",
            "<class 'pandas.core.frame.DataFrame'>\n",
            "RangeIndex: 509015 entries, 0 to 509014\n",
            "Data columns (total 2 columns):\n",
            " #   Column    Non-Null Count   Dtype \n",
            "---  ------    --------------   ----- \n",
            " 0   Keywords  509015 non-null  object\n",
            " 1   Label     509015 non-null  object\n",
            "dtypes: object(2)\n",
            "memory usage: 7.8+ MB\n",
            "None\n",
            "       Keywords   Label\n",
            "count    509015  509015\n",
            "unique    27666      32\n",
            "top       Harry      NN\n",
            "freq      22816  157872\n"
          ]
        },
        {
          "data": {
            "image/png": "[encoded data removed]",
            "text/plain": [
              "<Figure size 1000x600 with 1 Axes>"
            ]
          },
          "metadata": {},
          "output_type": "display_data"
        }
      ],
      "source": [
        "import pandas as pd\n",
        "import seaborn as sns\n",
        "import matplotlib.pyplot as plt\n",
        "\n",
        "\n",
        "# View the first few rows of the combined dataset\n",
        "print(df.head())\n",
        "\n",
        "# Get an overview of the dataset\n",
        "print(df.info())\n",
        "\n",
        "# Summary statistics\n",
        "print(df.describe())\n",
        "plt.figure(figsize=(10, 6))\n",
        "\n",
        "# Check the distribution of the target variable\n",
        "sns.countplot(data=df, x='Label')\n",
        "plt.title('Distribution of Labels')\n",
        "plt.show()\n",
        "\n",
        "# Explore the relationship between keywords and labels\n",
        "#sns.scatterplot(data=df, x='Keywords', y='Label')\n",
        "#plt.title('Relationship between Keywords and Labels')\n",
        "#plt.show()\n",
        "\n"
      ]
    },
    {
      "cell_type": "markdown",
      "metadata": {
        "id": "ZV4P3ilRb6Lq"
      },
      "source": [
        "# 4. Feature engineering\n"
      ]
    },
    {
      "cell_type": "markdown",
      "metadata": {
        "id": "8lZ9xMBCb6Lq"
      },
      "source": [
        "Importing Library"
      ]
    },
    {
      "cell_type": "code",
      "execution_count": null,
      "metadata": {
        "id": "ZmHba3dGb6Lq"
      },
      "outputs": [],
      "source": [
        "import pandas as pd\n",
        "import numpy as np\n",
        "from sklearn.model_selection import train_test_split\n",
        "from sklearn.metrics import accuracy_score\n",
        "from sklearn.feature_extraction.text import CountVectorizer\n",
        "from sklearn.naive_bayes import MultinomialNB\n",
        "from nltk.corpus import stopwords\n",
        "from nltk.stem import WordNetLemmatizer\n",
        "from nltk.tokenize import word_tokenize"
      ]
    },
    {
      "cell_type": "markdown",
      "metadata": {
        "id": "ZdTzJy_zb6Lr"
      },
      "source": [
        " Split Train, test data\n"
      ]
    },
    {
      "cell_type": "code",
      "execution_count": null,
      "metadata": {
        "id": "pKdgZ1-xb6Lr"
      },
      "outputs": [],
      "source": [
        "X_train, X_test, y_train, y_test = train_test_split(df['Keywords'], df['Label'], test_size=0.2, random_state=42)\n"
      ]
    },
    {
      "cell_type": "code",
      "execution_count": null,
      "metadata": {
        "colab": {
          "base_uri": "https://localhost:8080/"
        },
        "id": "-N8UIjQ_b6Lr",
        "outputId": "221f8ee7-0201-4c11-a692-69ff532c1245"
      },
      "outputs": [
        {
          "name": "stdout",
          "output_type": "stream",
          "text": [
            "495207     Harry\n",
            "327930      bite\n",
            "502608     early\n",
            "35090      sales\n",
            "158127      face\n",
            "           ...  \n",
            "259178    Potter\n",
            "365838    window\n",
            "131932      tree\n",
            "146867      Dark\n",
            "121958     black\n",
            "Name: Keywords, Length: 407212, dtype: object 453264          sure\n",
            "382477        vacant\n",
            "428810    eliminated\n",
            "249021             t\n",
            "37571          trust\n",
            "             ...    \n",
            "254591         noble\n",
            "376130       gnarled\n",
            "88397        contact\n",
            "281146           Ron\n",
            "80182     attraction\n",
            "Name: Keywords, Length: 101803, dtype: object\n"
          ]
        }
      ],
      "source": [
        "print(X_train , X_test)"
      ]
    },
    {
      "cell_type": "code",
      "execution_count": null,
      "metadata": {
        "colab": {
          "base_uri": "https://localhost:8080/"
        },
        "id": "ZEBeQ3lCb6Lr",
        "outputId": "f0af293c-0ee3-4e90-c04a-7229c76781b9"
      },
      "outputs": [
        {
          "name": "stdout",
          "output_type": "stream",
          "text": [
            "495207    NNP\n",
            "327930     NN\n",
            "502608     JJ\n",
            "35090     NNS\n",
            "158127     NN\n",
            "         ... \n",
            "259178    NNP\n",
            "365838     NN\n",
            "131932     NN\n",
            "146867    NNP\n",
            "121958     JJ\n",
            "Name: Label, Length: 407212, dtype: object 453264     JJ\n",
            "382477     JJ\n",
            "428810    VBN\n",
            "249021     NN\n",
            "37571      NN\n",
            "         ... \n",
            "254591     JJ\n",
            "376130     JJ\n",
            "88397      NN\n",
            "281146    NNP\n",
            "80182      NN\n",
            "Name: Label, Length: 101803, dtype: object\n"
          ]
        }
      ],
      "source": [
        "print(y_train , y_test)"
      ]
    },
    {
      "cell_type": "markdown",
      "metadata": {
        "id": "Clc89Zm7b6Ls"
      },
      "source": [
        "Text Preprocecssing"
      ]
    },
    {
      "cell_type": "code",
      "execution_count": null,
      "metadata": {
        "colab": {
          "base_uri": "https://localhost:8080/"
        },
        "id": "7FyWWGKFb6Ls",
        "outputId": "5a1031dd-04eb-4377-9dea-72793d4763dc"
      },
      "outputs": [
        {
          "name": "stderr",
          "output_type": "stream",
          "text": [
            "[nltk_data] Downloading package stopwords to /root/nltk_data...\n",
            "[nltk_data]   Package stopwords is already up-to-date!\n"
          ]
        }
      ],
      "source": [
        "import nltk\n",
        "nltk.download('stopwords')\n",
        "lemmatizer = WordNetLemmatizer()\n",
        "stopwords = set(stopwords.words('english'))"
      ]
    },
    {
      "cell_type": "code",
      "execution_count": null,
      "metadata": {
        "id": "YxKbo96xb6Lt"
      },
      "outputs": [],
      "source": [
        "def preprocess_text(text):\n",
        "    tokens = word_tokenize(text.lower())\n",
        "    tokens = [lemmatizer.lemmatize(token) for token in tokens if token.isalpha()]\n",
        "    tokens = [token for token in tokens if token not in stopwords]\n",
        "    return ' '.join(tokens)"
      ]
    },
    {
      "cell_type": "code",
      "execution_count": null,
      "metadata": {},
      "outputs": [],
      "source": []
    },
    {
      "cell_type": "code",
      "execution_count": null,
      "metadata": {
        "id": "fFOMWBfZb6Lt"
      },
      "outputs": [],
      "source": [
        "\n",
        "X_train_processed = [preprocess_text(keyword) for keyword in X_train]\n",
        "X_test_processed = [preprocess_text(keyword) for keyword in X_test]"
      ]
    },
    {
      "cell_type": "code",
      "execution_count": null,
      "metadata": {
        "id": "EHoxsbbzb6Lt"
      },
      "outputs": [],
      "source": [
        "vectorizer = CountVectorizer()\n",
        "X_train_features = vectorizer.fit_transform(X_train_processed)\n",
        "X_test_features = vectorizer.transform(X_test_processed)"
      ]
    },
    {
      "cell_type": "markdown",
      "metadata": {
        "id": "s8xXPUpmb6Lt"
      },
      "source": [
        "# Model Fitting"
      ]
    },
    {
      "cell_type": "markdown",
      "metadata": {
        "id": "5xD7H7S5b6Lu"
      },
      "source": [
        "## Training the Naive Bayes classifier\n"
      ]
    },
    {
      "cell_type": "markdown",
      "metadata": {
        "id": "luxwd_3Yb6Lu"
      },
      "source": [
        "The Naive Bayes algorithm is a supervised machine learning algorithm based on the Bayes' theorem. It is a probabilistic classifier that is often used in NLP tasks like sentiment analysis (identifying a text corpus' emotional or sentimental tone or opinion)"
      ]
    },
    {
      "cell_type": "code",
      "execution_count": null,
      "metadata": {
        "colab": {
          "base_uri": "https://localhost:8080/"
        },
        "id": "L00TqYO8b6Lu",
        "outputId": "5115fd08-7555-4bdc-c5fe-87b247008ffb"
      },
      "outputs": [
        {
          "data": {
            "text/html": [
              "<style>#sk-container-id-3 {color: black;background-color: white;}#sk-container-id-3 pre{padding: 0;}#sk-container-id-3 div.sk-toggleable {background-color: white;}#sk-container-id-3 label.sk-toggleable__label {cursor: pointer;display: block;width: 100%;margin-bottom: 0;padding: 0.3em;box-sizing: border-box;text-align: center;}#sk-container-id-3 label.sk-toggleable__label-arrow:before {content: \"▸\";float: left;margin-right: 0.25em;color: #696969;}#sk-container-id-3 label.sk-toggleable__label-arrow:hover:before {color: black;}#sk-container-id-3 div.sk-estimator:hover label.sk-toggleable__label-arrow:before {color: black;}#sk-container-id-3 div.sk-toggleable__content {max-height: 0;max-width: 0;overflow: hidden;text-align: left;background-color: #f0f8ff;}#sk-container-id-3 div.sk-toggleable__content pre {margin: 0.2em;color: black;border-radius: 0.25em;background-color: #f0f8ff;}#sk-container-id-3 input.sk-toggleable__control:checked~div.sk-toggleable__content {max-height: 200px;max-width: 100%;overflow: auto;}#sk-container-id-3 input.sk-toggleable__control:checked~label.sk-toggleable__label-arrow:before {content: \"▾\";}#sk-container-id-3 div.sk-estimator input.sk-toggleable__control:checked~label.sk-toggleable__label {background-color: #d4ebff;}#sk-container-id-3 div.sk-label input.sk-toggleable__control:checked~label.sk-toggleable__label {background-color: #d4ebff;}#sk-container-id-3 input.sk-hidden--visually {border: 0;clip: rect(1px 1px 1px 1px);clip: rect(1px, 1px, 1px, 1px);height: 1px;margin: -1px;overflow: hidden;padding: 0;position: absolute;width: 1px;}#sk-container-id-3 div.sk-estimator {font-family: monospace;background-color: #f0f8ff;border: 1px dotted black;border-radius: 0.25em;box-sizing: border-box;margin-bottom: 0.5em;}#sk-container-id-3 div.sk-estimator:hover {background-color: #d4ebff;}#sk-container-id-3 div.sk-parallel-item::after {content: \"\";width: 100%;border-bottom: 1px solid gray;flex-grow: 1;}#sk-container-id-3 div.sk-label:hover label.sk-toggleable__label {background-color: #d4ebff;}#sk-container-id-3 div.sk-serial::before {content: \"\";position: absolute;border-left: 1px solid gray;box-sizing: border-box;top: 0;bottom: 0;left: 50%;z-index: 0;}#sk-container-id-3 div.sk-serial {display: flex;flex-direction: column;align-items: center;background-color: white;padding-right: 0.2em;padding-left: 0.2em;position: relative;}#sk-container-id-3 div.sk-item {position: relative;z-index: 1;}#sk-container-id-3 div.sk-parallel {display: flex;align-items: stretch;justify-content: center;background-color: white;position: relative;}#sk-container-id-3 div.sk-item::before, #sk-container-id-3 div.sk-parallel-item::before {content: \"\";position: absolute;border-left: 1px solid gray;box-sizing: border-box;top: 0;bottom: 0;left: 50%;z-index: -1;}#sk-container-id-3 div.sk-parallel-item {display: flex;flex-direction: column;z-index: 1;position: relative;background-color: white;}#sk-container-id-3 div.sk-parallel-item:first-child::after {align-self: flex-end;width: 50%;}#sk-container-id-3 div.sk-parallel-item:last-child::after {align-self: flex-start;width: 50%;}#sk-container-id-3 div.sk-parallel-item:only-child::after {width: 0;}#sk-container-id-3 div.sk-dashed-wrapped {border: 1px dashed gray;margin: 0 0.4em 0.5em 0.4em;box-sizing: border-box;padding-bottom: 0.4em;background-color: white;}#sk-container-id-3 div.sk-label label {font-family: monospace;font-weight: bold;display: inline-block;line-height: 1.2em;}#sk-container-id-3 div.sk-label-container {text-align: center;}#sk-container-id-3 div.sk-container {/* jupyter's `normalize.less` sets `[hidden] { display: none; }` but bootstrap.min.css set `[hidden] { display: none !important; }` so we also need the `!important` here to be able to override the default hidden behavior on the sphinx rendered scikit-learn.org. See: https://github.com/scikit-learn/scikit-learn/issues/21755 */display: inline-block !important;position: relative;}#sk-container-id-3 div.sk-text-repr-fallback {display: none;}</style><div id=\"sk-container-id-3\" class=\"sk-top-container\"><div class=\"sk-text-repr-fallback\"><pre>MultinomialNB()</pre><b>In a Jupyter environment, please rerun this cell to show the HTML representation or trust the notebook. <br />On GitHub, the HTML representation is unable to render, please try loading this page with nbviewer.org.</b></div><div class=\"sk-container\" hidden><div class=\"sk-item\"><div class=\"sk-estimator sk-toggleable\"><input class=\"sk-toggleable__control sk-hidden--visually\" id=\"sk-estimator-id-3\" type=\"checkbox\" checked><label for=\"sk-estimator-id-3\" class=\"sk-toggleable__label sk-toggleable__label-arrow\">MultinomialNB</label><div class=\"sk-toggleable__content\"><pre>MultinomialNB()</pre></div></div></div></div></div>"
            ],
            "text/plain": [
              "MultinomialNB()"
            ]
          },
          "execution_count": 105,
          "metadata": {},
          "output_type": "execute_result"
        }
      ],
      "source": [
        "# Training the Naive Bayes classifier\n",
        "model = MultinomialNB()\n",
        "model.fit(X_train_features, y_train)"
      ]
    },
    {
      "cell_type": "code",
      "execution_count": null,
      "metadata": {
        "id": "nIkkK7e8swJz"
      },
      "outputs": [],
      "source": []
    },
    {
      "cell_type": "code",
      "execution_count": null,
      "metadata": {
        "colab": {
          "base_uri": "https://localhost:8080/"
        },
        "id": "mmo6TZw6b6Lv",
        "outputId": "67dd8955-9c97-46a9-9a93-425d3aef0188"
      },
      "outputs": [
        {
          "name": "stdout",
          "output_type": "stream",
          "text": [
            "Accuracy: 0.7495555140811174\n"
          ]
        }
      ],
      "source": [
        "# Predicting on the test set\n",
        "predictions = model.predict(X_test_features)\n",
        "\n",
        "# Evaluating the model\n",
        "accuracy = accuracy_score(y_test, predictions)\n",
        "print(\"Accuracy:\", accuracy)"
      ]
    },
    {
      "cell_type": "markdown",
      "metadata": {
        "id": "Q00rZ4btb6Lv"
      },
      "source": [
        "### Using new KeywordsExtracted using text from text file"
      ]
    },
    {
      "cell_type": "code",
      "execution_count": null,
      "metadata": {
        "colab": {
          "base_uri": "https://localhost:8080/"
        },
        "id": "6Pc2iMGjb6Lv",
        "outputId": "c868a21d-6166-40c8-e9c5-353e0a53f5c5"
      },
      "outputs": [
        {
          "name": "stdout",
          "output_type": "stream",
          "text": [
            "Keyword: shaurya -  Label: NN\n",
            "Keyword: love -  Label: NN\n",
            "Keyword: thing tech -  Label: NN\n",
            "Keyword: coding -  Label: NN\n",
            "Keyword: day -  Label: NN\n",
            "Keyword: night -  Label: NN\n",
            "Keyword: passion -  Label: NN\n",
            "Keyword: clear -  Label: JJ\n",
            "Keyword: ready -  Label: JJ\n",
            "Keyword: mystery -  Label: NNP\n",
            "Keyword: computer science -  Label: NN\n",
            "Keyword: engineering pro -  Label: NN\n",
            "Keyword: skill -  Label: NN\n",
            "Keyword: knowledge -  Label: NN\n",
            "Keyword: learning -  Label: VBG\n",
            "Keyword: expanding -  Label: VBG\n",
            "Keyword: mind -  Label: NN\n",
            "Keyword: bright future -  Label: JJ\n",
            "Keyword: easy -  Label: JJ\n",
            "Keyword: knack -  Label: NN\n",
            "Keyword: logic -  Label: NN\n",
            "Keyword: problem-solving -  Label: NN\n",
            "Keyword: hard work -  Label: NN\n",
            "Keyword: determination -  Label: NN\n"
          ]
        }
      ],
      "source": [
        "\n",
        "\n",
        "new_features = vectorizer.transform(new_keywords)\n",
        "\n",
        "\n",
        "new_predictions = model.predict(new_features)\n",
        "\n",
        "\n",
        "for keyword, prediction in zip(new_keywords, new_predictions):\n",
        "    print(f\"Keyword: {keyword} -  Label: {prediction}\")"
      ]
    },
    {
      "cell_type": "code",
      "execution_count": null,
      "metadata": {
        "colab": {
          "base_uri": "https://localhost:8080/"
        },
        "id": "u4Xg7nskb6Lv",
        "outputId": "0c48e9fe-2b4b-42b5-d8b1-f5bc9e2d5f02"
      },
      "outputs": [
        {
          "name": "stdout",
          "output_type": "stream",
          "text": [
            "Macro-average F1 score: 0.280659359226801\n",
            "Micro-average F1 score: 0.7495555140811174\n",
            "Weighted F1 score: 0.7272226623365271\n"
          ]
        }
      ],
      "source": [
        "from sklearn.metrics import f1_score\n",
        "predictions = model.predict(X_test_features)\n",
        "\n",
        "# Calculating the F1 score\n",
        "f1_macro = f1_score(y_test, predictions, average='macro')\n",
        "print(\"Macro-average F1 score:\", f1_macro)\n",
        "\n",
        "f1_micro = f1_score(y_test, predictions, average='micro')\n",
        "print(\"Micro-average F1 score:\", f1_micro)\n",
        "\n",
        "f1_weighted = f1_score(y_test, predictions, average='weighted')\n",
        "print(\"Weighted F1 score:\", f1_weighted)\n"
      ]
    },
    {
      "cell_type": "markdown",
      "metadata": {
        "id": "NA5MNiBotdbt"
      },
      "source": [
        "# Training Using RandomForestClassifier\n"
      ]
    },
    {
      "cell_type": "code",
      "execution_count": null,
      "metadata": {
        "colab": {
          "background_save": true
        },
        "id": "QnmLgkjNkabN",
        "outputId": "120263d3-ba98-4c77-9528-9ff14e21700b"
      },
      "outputs": [
        {
          "data": {
            "text/html": [
              "<style>#sk-container-id-4 {color: black;background-color: white;}#sk-container-id-4 pre{padding: 0;}#sk-container-id-4 div.sk-toggleable {background-color: white;}#sk-container-id-4 label.sk-toggleable__label {cursor: pointer;display: block;width: 100%;margin-bottom: 0;padding: 0.3em;box-sizing: border-box;text-align: center;}#sk-container-id-4 label.sk-toggleable__label-arrow:before {content: \"▸\";float: left;margin-right: 0.25em;color: #696969;}#sk-container-id-4 label.sk-toggleable__label-arrow:hover:before {color: black;}#sk-container-id-4 div.sk-estimator:hover label.sk-toggleable__label-arrow:before {color: black;}#sk-container-id-4 div.sk-toggleable__content {max-height: 0;max-width: 0;overflow: hidden;text-align: left;background-color: #f0f8ff;}#sk-container-id-4 div.sk-toggleable__content pre {margin: 0.2em;color: black;border-radius: 0.25em;background-color: #f0f8ff;}#sk-container-id-4 input.sk-toggleable__control:checked~div.sk-toggleable__content {max-height: 200px;max-width: 100%;overflow: auto;}#sk-container-id-4 input.sk-toggleable__control:checked~label.sk-toggleable__label-arrow:before {content: \"▾\";}#sk-container-id-4 div.sk-estimator input.sk-toggleable__control:checked~label.sk-toggleable__label {background-color: #d4ebff;}#sk-container-id-4 div.sk-label input.sk-toggleable__control:checked~label.sk-toggleable__label {background-color: #d4ebff;}#sk-container-id-4 input.sk-hidden--visually {border: 0;clip: rect(1px 1px 1px 1px);clip: rect(1px, 1px, 1px, 1px);height: 1px;margin: -1px;overflow: hidden;padding: 0;position: absolute;width: 1px;}#sk-container-id-4 div.sk-estimator {font-family: monospace;background-color: #f0f8ff;border: 1px dotted black;border-radius: 0.25em;box-sizing: border-box;margin-bottom: 0.5em;}#sk-container-id-4 div.sk-estimator:hover {background-color: #d4ebff;}#sk-container-id-4 div.sk-parallel-item::after {content: \"\";width: 100%;border-bottom: 1px solid gray;flex-grow: 1;}#sk-container-id-4 div.sk-label:hover label.sk-toggleable__label {background-color: #d4ebff;}#sk-container-id-4 div.sk-serial::before {content: \"\";position: absolute;border-left: 1px solid gray;box-sizing: border-box;top: 0;bottom: 0;left: 50%;z-index: 0;}#sk-container-id-4 div.sk-serial {display: flex;flex-direction: column;align-items: center;background-color: white;padding-right: 0.2em;padding-left: 0.2em;position: relative;}#sk-container-id-4 div.sk-item {position: relative;z-index: 1;}#sk-container-id-4 div.sk-parallel {display: flex;align-items: stretch;justify-content: center;background-color: white;position: relative;}#sk-container-id-4 div.sk-item::before, #sk-container-id-4 div.sk-parallel-item::before {content: \"\";position: absolute;border-left: 1px solid gray;box-sizing: border-box;top: 0;bottom: 0;left: 50%;z-index: -1;}#sk-container-id-4 div.sk-parallel-item {display: flex;flex-direction: column;z-index: 1;position: relative;background-color: white;}#sk-container-id-4 div.sk-parallel-item:first-child::after {align-self: flex-end;width: 50%;}#sk-container-id-4 div.sk-parallel-item:last-child::after {align-self: flex-start;width: 50%;}#sk-container-id-4 div.sk-parallel-item:only-child::after {width: 0;}#sk-container-id-4 div.sk-dashed-wrapped {border: 1px dashed gray;margin: 0 0.4em 0.5em 0.4em;box-sizing: border-box;padding-bottom: 0.4em;background-color: white;}#sk-container-id-4 div.sk-label label {font-family: monospace;font-weight: bold;display: inline-block;line-height: 1.2em;}#sk-container-id-4 div.sk-label-container {text-align: center;}#sk-container-id-4 div.sk-container {/* jupyter's `normalize.less` sets `[hidden] { display: none; }` but bootstrap.min.css set `[hidden] { display: none !important; }` so we also need the `!important` here to be able to override the default hidden behavior on the sphinx rendered scikit-learn.org. See: https://github.com/scikit-learn/scikit-learn/issues/21755 */display: inline-block !important;position: relative;}#sk-container-id-4 div.sk-text-repr-fallback {display: none;}</style><div id=\"sk-container-id-4\" class=\"sk-top-container\"><div class=\"sk-text-repr-fallback\"><pre>RandomForestClassifier()</pre><b>In a Jupyter environment, please rerun this cell to show the HTML representation or trust the notebook. <br />On GitHub, the HTML representation is unable to render, please try loading this page with nbviewer.org.</b></div><div class=\"sk-container\" hidden><div class=\"sk-item\"><div class=\"sk-estimator sk-toggleable\"><input class=\"sk-toggleable__control sk-hidden--visually\" id=\"sk-estimator-id-4\" type=\"checkbox\" checked><label for=\"sk-estimator-id-4\" class=\"sk-toggleable__label sk-toggleable__label-arrow\">RandomForestClassifier</label><div class=\"sk-toggleable__content\"><pre>RandomForestClassifier()</pre></div></div></div></div></div>"
            ],
            "text/plain": [
              "RandomForestClassifier()"
            ]
          },
          "execution_count": 109,
          "metadata": {},
          "output_type": "execute_result"
        }
      ],
      "source": [
        "from sklearn.ensemble import RandomForestClassifier\n",
        "from sklearn.metrics import accuracy_score, f1_score\n",
        "\n",
        "# Training the Random Forest classifier\n",
        "rf_model = RandomForestClassifier()\n",
        "rf_model.fit(X_train_features, y_train)\n"
      ]
    },
    {
      "cell_type": "code",
      "execution_count": null,
      "metadata": {
        "colab": {
          "background_save": true
        },
        "id": "uzY6nW6hazJ7",
        "outputId": "4c1cf128-43b4-426a-b488-68ab211448a3"
      },
      "outputs": [
        {
          "name": "stdout",
          "output_type": "stream",
          "text": [
            "Random Forest Accuracy: 0.7587595650422876\n",
            "Random Forest F1 Score (Macro): 0.36499619962292096\n",
            "Keyword: shaurya - Predicted Label: NN\n",
            "Keyword: love - Predicted Label: NN\n",
            "Keyword: thing tech - Predicted Label: NNS\n",
            "Keyword: coding - Predicted Label: NN\n",
            "Keyword: day - Predicted Label: NN\n",
            "Keyword: night - Predicted Label: NN\n",
            "Keyword: passion - Predicted Label: NN\n",
            "Keyword: clear - Predicted Label: JJ\n",
            "Keyword: ready - Predicted Label: JJ\n",
            "Keyword: mystery - Predicted Label: NNP\n",
            "Keyword: computer science - Predicted Label: NN\n",
            "Keyword: engineering pro - Predicted Label: NN\n",
            "Keyword: skill - Predicted Label: NN\n",
            "Keyword: knowledge - Predicted Label: NN\n",
            "Keyword: learning - Predicted Label: VBG\n",
            "Keyword: expanding - Predicted Label: VBG\n",
            "Keyword: mind - Predicted Label: NN\n",
            "Keyword: bright future - Predicted Label: JJ\n",
            "Keyword: easy - Predicted Label: JJ\n",
            "Keyword: knack - Predicted Label: NN\n",
            "Keyword: logic - Predicted Label: NN\n",
            "Keyword: problem-solving - Predicted Label: NN\n",
            "Keyword: hard work - Predicted Label: JJ\n",
            "Keyword: determination - Predicted Label: NN\n"
          ]
        }
      ],
      "source": [
        "\n",
        "# Predicting on the test set\n",
        "rf_predictions = rf_model.predict(X_test_features)\n",
        "\n",
        "# Evaluating the model\n",
        "rf_accuracy = accuracy_score(y_test, rf_predictions)\n",
        "rf_f1_score = f1_score(y_test, rf_predictions, average='macro')\n",
        "print(\"Random Forest Accuracy:\", rf_accuracy)\n",
        "print(\"Random Forest F1 Score (Macro):\", rf_f1_score)\n",
        "\n",
        "# Predicting on new keywords\n",
        "new_rf_predictions = rf_model.predict(new_features)\n",
        "\n",
        "for keyword, prediction in zip(new_keywords, new_rf_predictions):\n",
        "    print(f\"Keyword: {keyword} - Predicted Label: {prediction}\")"
      ]
    },
    {
      "cell_type": "markdown",
      "metadata": {
        "id": "jY-Z8tqJG6Gy"
      },
      "source": [
        "# Training Using Logistic Regression\n"
      ]
    },
    {
      "cell_type": "code",
      "execution_count": null,
      "metadata": {
        "colab": {
          "background_save": true
        },
        "id": "bKfhtBOgHArL",
        "outputId": "2d92c4a3-d84e-48ca-eb3c-28e830a09484"
      },
      "outputs": [
        {
          "name": "stderr",
          "output_type": "stream",
          "text": [
            "/usr/local/lib/python3.10/dist-packages/sklearn/linear_model/_logistic.py:458: ConvergenceWarning: lbfgs failed to converge (status=1):\n",
            "STOP: TOTAL NO. of ITERATIONS REACHED LIMIT.\n",
            "\n",
            "Increase the number of iterations (max_iter) or scale the data as shown in:\n",
            "    https://scikit-learn.org/stable/modules/preprocessing.html\n",
            "Please also refer to the documentation for alternative solver options:\n",
            "    https://scikit-learn.org/stable/modules/linear_model.html#logistic-regression\n",
            "  n_iter_i = _check_optimize_result(\n"
          ]
        },
        {
          "name": "stdout",
          "output_type": "stream",
          "text": [
            "Accuracy: 0.7215602683614432\n",
            "F1 score: 0.7066545759232078\n",
            "Keyword: shaurya - Predicted Label: NN\n",
            "Keyword: love - Predicted Label: NN\n",
            "Keyword: thing tech - Predicted Label: NN\n",
            "Keyword: coding - Predicted Label: NN\n",
            "Keyword: day - Predicted Label: NN\n",
            "Keyword: night - Predicted Label: NN\n",
            "Keyword: passion - Predicted Label: NN\n",
            "Keyword: clear - Predicted Label: JJ\n",
            "Keyword: ready - Predicted Label: JJ\n",
            "Keyword: mystery - Predicted Label: NNP\n",
            "Keyword: computer science - Predicted Label: NN\n",
            "Keyword: engineering pro - Predicted Label: NN\n",
            "Keyword: skill - Predicted Label: NN\n",
            "Keyword: knowledge - Predicted Label: NN\n",
            "Keyword: learning - Predicted Label: VBG\n",
            "Keyword: expanding - Predicted Label: NN\n",
            "Keyword: mind - Predicted Label: NN\n",
            "Keyword: bright future - Predicted Label: JJ\n",
            "Keyword: easy - Predicted Label: JJ\n",
            "Keyword: knack - Predicted Label: NN\n",
            "Keyword: logic - Predicted Label: NN\n",
            "Keyword: problem-solving - Predicted Label: NN\n",
            "Keyword: hard work - Predicted Label: RB\n",
            "Keyword: determination - Predicted Label: NN\n"
          ]
        }
      ],
      "source": [
        "# Import the logistic regression model\n",
        "from sklearn.linear_model import LogisticRegression\n",
        "\n",
        "# Train the model\n",
        "model = LogisticRegression()\n",
        "model.fit(X_train_features, y_train)\n",
        "\n",
        "# Predict on the test set\n",
        "predictions = model.predict(X_test_features)\n",
        "\n",
        "# Evaluate the model\n",
        "accuracy = accuracy_score(y_test, predictions)\n",
        "print(\"Accuracy:\", accuracy)\n",
        "from sklearn.metrics import f1_score\n",
        "\n",
        "# Calculate the F1 score\n",
        "f1_score = f1_score(y_test, predictions, average='weighted')\n",
        "print(\"F1 score:\", f1_score)\n",
        "# Predict on new keywords\n",
        "new_features = vectorizer.transform(new_keywords)\n",
        "\n",
        "# Make predictions\n",
        "new_predictions = model.predict(new_features)\n",
        "\n",
        "# Print the predictions\n",
        "for keyword, prediction in zip(new_keywords, new_predictions):\n",
        "    print(f\"Keyword: {keyword} - Predicted Label: {prediction}\")\n"
      ]
    },
    {
      "cell_type": "markdown",
      "metadata": {
        "id": "LbTXhnc1HNGR"
      },
      "source": [
        "# Comparision Between F1 Scores And Accuracy Of Models"
      ]
    },
    {
      "cell_type": "code",
      "execution_count": null,
      "metadata": {
        "colab": {
          "background_save": true
        },
        "id": "m6lQa-0RHUID",
        "outputId": "9c8a6360-7c76-4a38-f542-08e7b210225e"
      },
      "outputs": [
        {
          "data": {
            "image/png": "[encoded data removed]",
            "text/plain": [
              "<Figure size 800x600 with 1 Axes>"
            ]
          },
          "metadata": {},
          "output_type": "display_data"
        },
        {
          "data": {
            "image/png": "[encoded data removed]",
            "text/plain": [
              "<Figure size 800x600 with 1 Axes>"
            ]
          },
          "metadata": {},
          "output_type": "display_data"
        }
      ],
      "source": [
        "import matplotlib.pyplot as plt\n",
        "\n",
        "# F1 scores\n",
        "f1_scores = [f1_micro, rf_f1_score, f1_score]\n",
        "models = ['Naive Bayes', 'Random Forest', 'Logistic Regression']\n",
        "\n",
        "# Create a bar chart for F1 scores\n",
        "plt.figure(figsize=(8, 6))\n",
        "plt.bar(models, f1_scores)\n",
        "plt.xlabel('Model')\n",
        "plt.ylabel('F1 Score')\n",
        "plt.title('F1 Scores of NLP Models')\n",
        "plt.show()\n",
        "\n",
        "# Accuracy\n",
        "accuracies = [accuracy, rf_accuracy, accuracy]\n",
        "models = ['Naive Bayes', 'Random Forest', 'Logistic Regression']\n",
        "\n",
        "# Create a bar chart for accuracy\n",
        "plt.figure(figsize=(8, 6))\n",
        "plt.bar(models, accuracies)\n",
        "plt.xlabel('Model')\n",
        "plt.ylabel('Accuracy')\n",
        "plt.title('Accuracy of NLP Models')\n",
        "plt.show()\n"
      ]
    },
    {
      "cell_type": "code",
      "execution_count": null,
      "metadata": {},
      "outputs": [],
      "source": [
        "# Define the attention layer\n",
        "class AttentionLayer(Model):\n",
        "    def __init__(self):\n",
        "        super(AttentionLayer, self).__init__()\n",
        "    def build(self, input_shape):\n",
        "        self.W = self.add_weight(name='att_weight', shape=(input_shape[-1],),\n",
        "                                 initializer='uniform', trainable=True)\n",
        "        super(AttentionLayer, self).build(input_shape)\n",
        "    def call(self, x):\n",
        "        e = Dot(axes=(2, 1))([x, self.W])\n",
        "        attention_weights = Activation('softmax')(e)\n",
        "        context_vector = Dot(axes=(1, 1))([attention_weights, x])\n",
        "        return context_vector\n",
        "# Define the attention-based RNN model\n",
        "def attention_rnn_model(max_len, vocab_size):\n",
        "    inputs = Input(shape=(max_len,))\n",
        "    embedding_layer = Embedding(input_dim=vocab_size, output_dim=128)(inputs)\n",
        "    lstm = Bidirectional(LSTM(units=64, return_sequences=True))(embedding_layer)\n",
        "    attention = AttentionLayer()(lstm)\n",
        "    attention = Dense(64, activation='tanh')(attention)\n",
        "    output = Dense(num_classes, activation='softmax')(attention)\n",
        "    model = Model(inputs=inputs, outputs=output)\n",
        "    return model\n",
        "# Build the model\n",
        "model = attention_rnn_model(max_len, len(tokenizer.word_index)+1)\n",
        "# Compile and train the model\n",
        "model.compile(loss='categorical_crossentropy', optimizer='adam', metrics=['accuracy'])\n",
        "model.fit(X_train, Y_train, validation_data=(X_test, Y_test), epochs=10, batch_size=32)\n",
        "# Evaluate the model\n",
        "loss, accuracy = model.evaluate(X_test, Y_test, batch_size=32)\n",
        "print(\"Test Loss:\", loss)\n",
        "print(\"Test Accuracy:\", accuracy)"
      ]
    }
  ],
  "metadata": {
    "accelerator": "TPU",
    "colab": {
      "provenance": [],
      "toc_visible": true
    },
    "kernelspec": {
      "display_name": "Python 3",
      "name": "python3"
    },
    "language_info": {
      "codemirror_mode": {
        "name": "ipython",
        "version": 3
      },
      "file_extension": ".py",
      "mimetype": "text/x-python",
      "name": "python",
      "nbconvert_exporter": "python",
      "pygments_lexer": "ipython3",
      "version": "3.11.2"
    }
  },
  "nbformat": 4,
  "nbformat_minor": 0
}
